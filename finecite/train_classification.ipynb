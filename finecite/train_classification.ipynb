{
 "cells": [
  {
   "cell_type": "code",
   "execution_count": 1,
   "metadata": {},
   "outputs": [],
   "source": [
    "\n",
    "import os\n",
    "os.environ['CUDA_VISIBLE_DEVICES']='2'\n",
    "import json\n",
    "import re\n",
    "from datetime import datetime\n",
    "import sys\n",
    "import argparse\n",
    "\n",
    "import torch\n",
    "from torch.utils.data import DataLoader\n",
    "from dotenv import load_dotenv\n",
    "\n",
    "load_dotenv()\n",
    "DATA_DIR = os.getenv('DATA_DIR')\n",
    "CACHE_DIR = os.getenv('CACHE_DIR')\n",
    "OUT_DIR = os.getenv('OUT_DIR')\n",
    "FINECITE_PATH = os.getenv('FINECITE_PATH')\n",
    "if FINECITE_PATH not in sys.path:\n",
    "    sys.path.append(FINECITE_PATH)\n",
    "\n",
    "from finecite.utils import set_seed, get_class_weights\n",
    "from finecite.data_processing import load_processor\n",
    "from finecite.model import CustomTrainer, ExtractionModel, ClassificationModel, load_classifier, load_tokenizer_embedding_model, MODEL_DESCRIPTION"
   ]
  },
  {
   "cell_type": "code",
   "execution_count": 2,
   "metadata": {},
   "outputs": [],
   "source": [
    "parser = argparse.ArgumentParser(description='Seq_tagger parser')\n",
    "args = parser.parse_args([])\n",
    "args.model_name = 'scibert' # scibert llm2vec_mistral llm2vec_llama3\n",
    "args.ext_model = 'scibert' # scibert llm2vec_mistral llm2vec_llama3\n",
    "args.dataset = 'acl-arc' # 'acl-arc', 'act2', 'scicite', 'multicite'\n",
    "args.ext_type = 'bilstm_crf' # linear, bilstm, crf, bilstm_crf\n",
    "args.cls_type = 'linear' # weighted, balanced, linear, inf, perc, back\n",
    "\n",
    "args.batch_size = 4\n",
    "args.learning_rate = 2e-05\n",
    "args.crf_learning_rate = 0.005\n",
    "args.dropout = 0.1\n",
    "\n",
    "args.save_model = False\n",
    "args.cached_data = False\n",
    "args.debug = True\n",
    "args.debug_size = 100\n",
    "args.seed = 4455"
   ]
  },
  {
   "cell_type": "code",
   "execution_count": 3,
   "metadata": {},
   "outputs": [],
   "source": [
    "args.task = 'cls'\n",
    "args.max_epochs = 20\n",
    "args.patients = 5\n",
    "args.adam_epsilon = 1e-08\n",
    "args.weight_decay = 0.0\n",
    "args.use_prompt = 'llm2vec' in args.model_name\n",
    "args.dtype = torch.float32\n",
    "\n",
    "# model description\n",
    "args.model_desc = MODEL_DESCRIPTION[args.model_name]\n",
    "args.max_len = args.model_desc['max_len']\n",
    "\n",
    "# input directory\n",
    "args.input_dir = f'{DATA_DIR}/{args.dataset}/'\n",
    "\n",
    "# output directory\n",
    "args.output_dir = re.sub(r'[.:*?\"<>|\\s-]','_',(\n",
    "    f\"{OUT_DIR}/\"\n",
    "    f\"{'_debug/' if args.debug else ''}\"\n",
    "    f\"{args.dataset}/{args.model_name}/\"\n",
    "    f\"{args.ext_type}__{args.batch_size}__{args.learning_rate}__{args.dropout}\"\n",
    "    f\"{'__' + datetime.now().strftime('%m_%d_%H_%M_%S') if args.debug else ''}/\"\n",
    "))\n",
    "args.model_output_file = re.sub(r'[.:*?\"<>|\\s]','_',(\n",
    "    f\"{OUT_DIR}/\"\n",
    "    f\"{'_debug/' if args.debug else ''}\"\n",
    "    f\"{args.dataset}/{args.model_name}/\"\n",
    "    f\"safetensors__{args.batch_size}__{args.learning_rate}__{args.dropout}.pt\"\n",
    "))\n",
    "\n",
    "os.makedirs(args.output_dir, exist_ok=True)\n",
    "\n",
    "# model cache dir\n",
    "if 'llm2vec' in args.model_name:\n",
    "    args.base_model_dir =  f'{CACHE_DIR}/{args.model_name}/'\n",
    "    os.makedirs(args.base_model_dir, exist_ok=True)\n",
    "\n",
    "# data cache dir\n",
    "args.data_cache_dir =  f'{CACHE_DIR}/{args.dataset}/'\n",
    "os.makedirs(args.data_cache_dir, exist_ok=True)\n",
    "\n",
    "# ext model dir\n",
    "args.ext_model_dir = re.sub(r'[.:*?\"<>|\\s-]','_',(\n",
    "    f\"{OUT_DIR}/finecite/{args.ext_model}/{args.ext_type}\"\n",
    "))\n",
    "set_seed(args.seed)\n",
    "args.device = torch.device('cuda' if torch.cuda.is_available() else 'cpu')"
   ]
  },
  {
   "cell_type": "markdown",
   "metadata": {},
   "source": [
    "## Extract Label"
   ]
  },
  {
   "cell_type": "code",
   "execution_count": 4,
   "metadata": {},
   "outputs": [
    {
     "name": "stdout",
     "output_type": "stream",
     "text": [
      "loading extraction model...\n"
     ]
    },
    {
     "name": "stdout",
     "output_type": "stream",
     "text": [
      "loading scibert model...\n"
     ]
    },
    {
     "data": {
      "text/plain": [
       "<All keys matched successfully>"
      ]
     },
     "execution_count": 4,
     "metadata": {},
     "output_type": "execute_result"
    }
   ],
   "source": [
    "with open(f'{args.ext_model_dir}/run_setup.json', 'r') as f:\n",
    "    ext_args =  argparse.Namespace(**json.load(f))\n",
    "    \n",
    "ext_args.device = torch.device('cuda' if torch.cuda.is_available() else 'cpu')\n",
    "ext_args.dtype = args.dtype\n",
    "\n",
    "print('loading extraction model...')\n",
    "tokenizer, embedding_model = load_tokenizer_embedding_model(ext_args)\n",
    "ext_args.cls_token_id = tokenizer.cls_token_id\n",
    "ext_args.sep_token_id = tokenizer.sep_token_id\n",
    "ext_args.pad_token_id = tokenizer.pad_token_id\n",
    "\n",
    "ext_model = ExtractionModel(ext_args, embedding_model)\n",
    "\n",
    "ext_model.load_state_dict(torch.load(f'{args.ext_model_dir}/safetensors.pt'))"
   ]
  },
  {
   "cell_type": "code",
   "execution_count": 5,
   "metadata": {},
   "outputs": [
    {
     "ename": "RuntimeError",
     "evalue": "shape mismatch: value tensor of shape [260] cannot be broadcast to indexing result of shape [512]",
     "output_type": "error",
     "traceback": [
      "\u001b[31m---------------------------------------------------------------------------\u001b[39m",
      "\u001b[31mRuntimeError\u001b[39m                              Traceback (most recent call last)",
      "\u001b[36mCell\u001b[39m\u001b[36m \u001b[39m\u001b[32mIn[5]\u001b[39m\u001b[32m, line 32\u001b[39m\n\u001b[32m     29\u001b[39m test_dl = DataLoader(test_ds, batch_size = args.batch_size, shuffle=\u001b[38;5;28;01mFalse\u001b[39;00m)\n\u001b[32m     31\u001b[39m \u001b[38;5;66;03m#extract context\u001b[39;00m\n\u001b[32m---> \u001b[39m\u001b[32m32\u001b[39m train_lbls = \u001b[43mext_model\u001b[49m\u001b[43m.\u001b[49m\u001b[43mextract_token_labels\u001b[49m\u001b[43m(\u001b[49m\u001b[43mtrain_dl\u001b[49m\u001b[43m)\u001b[49m\n\u001b[32m     33\u001b[39m test_lbls = ext_model.extract_token_labels(test_dl)\n\u001b[32m     35\u001b[39m \u001b[38;5;28;01massert\u001b[39;00m \u001b[38;5;28mlen\u001b[39m(train_ds) == \u001b[38;5;28mlen\u001b[39m(train_lbls) \u001b[38;5;129;01mand\u001b[39;00m \u001b[38;5;28mlen\u001b[39m(test_ds) == \u001b[38;5;28mlen\u001b[39m(test_lbls) \n",
      "\u001b[36mFile \u001b[39m\u001b[32m~/lassejantsch/FineCite/finecite/model/model.py:71\u001b[39m, in \u001b[36mExtractionModel.extract_token_labels\u001b[39m\u001b[34m(self, data_loader)\u001b[39m\n\u001b[32m     69\u001b[39m     preds = torch.full(mask.shape, -\u001b[32m100\u001b[39m, dtype=torch.long) \n\u001b[32m     70\u001b[39m     \u001b[38;5;28;01mfor\u001b[39;00m i,( m, o) \u001b[38;5;129;01min\u001b[39;00m \u001b[38;5;28menumerate\u001b[39m(\u001b[38;5;28mzip\u001b[39m(mask, output)):\n\u001b[32m---> \u001b[39m\u001b[32m71\u001b[39m         \u001b[43mpreds\u001b[49m\u001b[43m[\u001b[49m\u001b[43mi\u001b[49m\u001b[43m,\u001b[49m\u001b[43m \u001b[49m\u001b[43mm\u001b[49m\u001b[43m]\u001b[49m = torch.tensor(o, dtype=torch.long)\n\u001b[32m     72\u001b[39m \u001b[38;5;28;01melse\u001b[39;00m:\n\u001b[32m     73\u001b[39m     preds = [[p \u001b[38;5;28;01mif\u001b[39;00m m \u001b[38;5;28;01melse\u001b[39;00m -\u001b[32m100\u001b[39m \u001b[38;5;28;01mfor\u001b[39;00m p, m \u001b[38;5;129;01min\u001b[39;00m \u001b[38;5;28mzip\u001b[39m(preds, mask)] \u001b[38;5;28;01mfor\u001b[39;00m preds, mask  \u001b[38;5;129;01min\u001b[39;00m \u001b[38;5;28mzip\u001b[39m(torch.argmax(token_labels, dim = \u001b[32m1\u001b[39m).tolist(), (mask == \u001b[32m1\u001b[39m).tolist())]\n",
      "\u001b[31mRuntimeError\u001b[39m: shape mismatch: value tensor of shape [260] cannot be broadcast to indexing result of shape [512]"
     ]
    }
   ],
   "source": [
    "from finecite.data_processing import data_processor\n",
    "from importlib import reload\n",
    "reload(data_processor)\n",
    "\n",
    "#load data processor\n",
    "processor = data_processor.load_processor(args, tokenizer)\n",
    "\n",
    "# load data\n",
    "train_data = processor.read_data('train')\n",
    "test_data = processor.read_data('test')\n",
    "\n",
    "# create dataset\n",
    "train_ds, weights, num_labels = processor.create_features(train_data)\n",
    "test_ds, _ , _ = processor.create_features(test_data)\n",
    "args.label_weights = weights\n",
    "args.num_labels = num_labels\n",
    "args.num_training_steps = int(len(train_data) / args.batch_size) * args.max_epochs\n",
    "\n",
    "train_file = f'{args.ext_model}_{args.ext_type}_train.pt'\n",
    "test_file = f'{args.ext_model}_{args.ext_type}_test.pt'\n",
    "# check cached examples\n",
    "if args.cached_data and train_file in os.listdir(args.data_cache_dir) and test_file in os.listdir(args.data_cache_dir):\n",
    "    train_ds = torch.load(os.path.join(args.data_cache_dir, train_file), weights_only=False)\n",
    "    test_ds = torch.load(os.path.join(args.data_cache_dir, test_file), weights_only=False)\n",
    "else:\n",
    "\n",
    "    # dataloader\n",
    "    train_dl = DataLoader(train_ds, batch_size = args.batch_size, shuffle=False)\n",
    "    test_dl = DataLoader(test_ds, batch_size = args.batch_size, shuffle=False)\n",
    "    \n",
    "    #extract context\n",
    "    train_lbls = ext_model.extract_token_labels(train_dl)\n",
    "    test_lbls = ext_model.extract_token_labels(test_dl)\n",
    "    \n",
    "    assert len(train_ds) == len(train_lbls) and len(test_ds) == len(test_lbls) \n",
    "    \n",
    "    #add context to dataset\n",
    "    train_ds = [{**example, 'token_labels': torch.tensor(tok_lbl, dtype=torch.long)} for example, tok_lbl in zip(train_ds, train_lbls)]\n",
    "    test_ds = [{**example, 'token_labels': torch.tensor(tok_lbl, dtype=torch.long)}for example, tok_lbl in zip(test_ds, test_lbls)]\n",
    "    \n",
    "    #cache data\n",
    "    torch.save(train_ds, os.path.join(args.data_cache_dir, train_file))\n",
    "    torch.save(test_ds, os.path.join(args.data_cache_dir, test_file))\n",
    "\n",
    "#Dataloader\n",
    "train_dataloader = DataLoader(train_ds, shuffle=True, batch_size=args.batch_size, num_workers=0) \n",
    "val_dataloader =  DataLoader(test_ds, shuffle=True, batch_size=args.batch_size, num_workers=0)"
   ]
  },
  {
   "cell_type": "markdown",
   "metadata": {},
   "source": [
    "## classification"
   ]
  },
  {
   "cell_type": "code",
   "execution_count": null,
   "metadata": {},
   "outputs": [
    {
     "name": "stdout",
     "output_type": "stream",
     "text": [
      "loading model embedding model...\n"
     ]
    },
    {
     "name": "stdout",
     "output_type": "stream",
     "text": [
      "loading scibert model...\n",
      "loading extraction model...\n"
     ]
    }
   ],
   "source": [
    "#load model and tokenizer\n",
    "print('loading model embedding model...')\n",
    "tokenizer, embedding_model = load_tokenizer_embedding_model(args)\n",
    "print('loading extraction model...')\n",
    "ext_model = ClassificationModel(args, embedding_model)"
   ]
  },
  {
   "cell_type": "code",
   "execution_count": null,
   "metadata": {},
   "outputs": [
    {
     "name": "stdout",
     "output_type": "stream",
     "text": [
      "Logging run_setup\n",
      "Logging input sample\n",
      "First example input text: ['[CLS]', 'before', 'we', 'turn', 'to', 'swedish', 'and', 'turkish', ',', 'focusing', 'on', 'recall', 'and', 'precision', 'of', 'root', 'nodes', ',', 'as', 'a', 'reflection', 'of', 'global', 'syntactic', 'structure', ',', 'and', 'on', 'attachment', 'score', 'as', 'a', 'function', 'of', 'arc', 'length', '.', 'if', 'we', 'start', 'by', 'considering', 'languages', 'with', 'a', 'labeled', 'attachment', 'score', 'of', '85', '%', 'or', 'higher', ',', 'they', 'are', 'characterized', 'by', 'high', 'precision', 'and', 'recall', 'for', 'root', 'nodes', ',', 'typically', '95', '/', '90', ',', 'and', 'by', 'a', 'grace', '##ful', 'degradation', 'of', 'attachment', 'score', 'as', 'arcs', 'grow', 'longer', ',', 'typically', '95', '##90', '##85', ',', 'for', 'arcs', 'of', 'length', '1', ',', '2', 'and', '36', '.', 'typical', 'examples', 'are', 'bul', '##gar', '##ian', '<', 'target', '_', 'citation', '/', '>', ',', 'chinese', '<', 'citation', '/', '>', ',', 'danish', '<', 'citation', '/', '>', ',', 'and', 'swedish', '<', 'citation', '/', '>', '.', 'typical', 'examples', 'are', 'bul', '##gar', '##ian', '<', 'citation', '/', '>', ',', 'chinese', '<', 'citation', '/', '>', ',', 'danish', '<', 'citation', '/', '>', ',', 'and', 'swedish', '<', 'citation', '/', '>', '.', 'if', 'we', 'start', 'by', 'considering', 'languages', 'with', 'a', 'labeled', 'attachment', 'score', 'of', '85', '%', 'or', 'higher', ',', 'they', 'are', 'characterized', 'by', 'high', 'precision', 'and', 'recall', 'for', 'root', 'nodes', ',', 'typically', '95', '/', '90', ',', 'and', 'by', 'a', 'grace', '##ful', 'degradation', 'of', 'attachment', 'score', 'as', 'arcs', 'grow', 'longer', ',', 'typically', '95', '##90', '##85', ',', 'for', 'arcs', 'of', 'length', '1', ',', '2', 'and', '36', '.', 'before', 'we', 'turn', 'to', 'swedish', 'and', 'turkish', ',', 'focusing', 'on', 'recall', 'and', 'precision', 'of', 'root', 'nodes', ',', 'as', 'a', 'reflection', 'of', 'global', 'syntactic', 'structure', ',', 'and', 'on', 'attachment', 'score', 'as', 'a', 'function', 'of', 'arc', 'length', '.', '[SEP]', '[PAD]', '[PAD]', '[PAD]', '[PAD]', '[PAD]', '[PAD]', '[PAD]', '[PAD]', '[PAD]', '[PAD]', '[PAD]', '[PAD]', '[PAD]', '[PAD]', '[PAD]', '[PAD]', '[PAD]', '[PAD]', '[PAD]', '[PAD]', '[PAD]', '[PAD]', '[PAD]', '[PAD]', '[PAD]', '[PAD]', '[PAD]', '[PAD]', '[PAD]', '[PAD]', '[PAD]', '[PAD]', '[PAD]', '[PAD]', '[PAD]', '[PAD]', '[PAD]', '[PAD]', '[PAD]', '[PAD]', '[PAD]', '[PAD]', '[PAD]', '[PAD]', '[PAD]', '[PAD]', '[PAD]', '[PAD]', '[PAD]', '[PAD]', '[PAD]', '[PAD]', '[PAD]', '[PAD]', '[PAD]', '[PAD]', '[PAD]', '[PAD]', '[PAD]', '[PAD]', '[PAD]', '[PAD]', '[PAD]', '[PAD]', '[PAD]', '[PAD]', '[PAD]', '[PAD]', '[PAD]', '[PAD]', '[PAD]', '[PAD]', '[PAD]', '[PAD]', '[PAD]', '[PAD]', '[PAD]', '[PAD]', '[PAD]', '[PAD]', '[PAD]', '[PAD]', '[PAD]', '[PAD]', '[PAD]', '[PAD]', '[PAD]', '[PAD]', '[PAD]', '[PAD]', '[PAD]', '[PAD]', '[PAD]', '[PAD]', '[PAD]', '[PAD]', '[PAD]', '[PAD]', '[PAD]', '[PAD]', '[PAD]', '[PAD]', '[PAD]', '[PAD]', '[PAD]', '[PAD]', '[PAD]', '[PAD]', '[PAD]', '[PAD]', '[PAD]', '[PAD]', '[PAD]', '[PAD]', '[PAD]', '[PAD]', '[PAD]', '[PAD]', '[PAD]', '[PAD]', '[PAD]', '[PAD]', '[PAD]', '[PAD]', '[PAD]', '[PAD]', '[PAD]', '[PAD]', '[PAD]', '[PAD]', '[PAD]', '[PAD]', '[PAD]', '[PAD]', '[PAD]', '[PAD]', '[PAD]', '[PAD]', '[PAD]', '[PAD]', '[PAD]', '[PAD]', '[PAD]', '[PAD]', '[PAD]', '[PAD]', '[PAD]', '[PAD]', '[PAD]', '[PAD]', '[PAD]', '[PAD]', '[PAD]', '[PAD]', '[PAD]', '[PAD]', '[PAD]', '[PAD]', '[PAD]', '[PAD]', '[PAD]', '[PAD]', '[PAD]', '[PAD]', '[PAD]', '[PAD]', '[PAD]', '[PAD]', '[PAD]', '[PAD]', '[PAD]', '[PAD]', '[PAD]', '[PAD]', '[PAD]', '[PAD]', '[PAD]', '[PAD]', '[PAD]', '[PAD]', '[PAD]', '[PAD]', '[PAD]', '[PAD]', '[PAD]', '[PAD]', '[PAD]', '[PAD]', '[PAD]', '[PAD]', '[PAD]', '[PAD]', '[PAD]', '[PAD]', '[PAD]', '[PAD]', '[PAD]', '[PAD]', '[PAD]', '[PAD]', '[PAD]', '[PAD]', '[PAD]', '[PAD]', '[PAD]', '[PAD]', '[PAD]', '[PAD]', '[PAD]', '[PAD]', '[PAD]', '[PAD]', '[PAD]', '[PAD]', '[PAD]', '[PAD]', '[PAD]', '[PAD]', '[PAD]', '[PAD]', '[PAD]', '[PAD]', '[PAD]', '[PAD]', '[PAD]', '[PAD]', '[PAD]', '[PAD]', '[PAD]', '[PAD]', '[PAD]', '[PAD]', '[PAD]', '[PAD]', '[PAD]', '[PAD]', '[PAD]', '[PAD]', '[PAD]', '[PAD]', '[PAD]', '[PAD]', '[PAD]', '[PAD]', '[PAD]', '[PAD]', '[PAD]', '[PAD]', '[PAD]', '[PAD]']\n",
      "Num pred targets (cls: [CLS], sep: [SEP], pad: [PAD]): 260\n",
      "Special tokens in input: []\n",
      "Labels [-100, 0, 0, 0, 0, 0, 0, 0, 0, 0, 0, 0, 0, 0, 0, 0, 0, 0, 0, 0, 0, 0, 0, 0, 0, 0, 0, 0, 0, 0, 0, 0, 0, 0, 0, 0, 0, 0, 0, 0, 0, 0, 0, 0, 0, 3, 0, 0, 0, 0, 0, 0, 0, 0, 0, 0, 0, 0, 0, 0, 0, 0, 0, 0, 0, 0, 0, 0, 0, 0, 0, 0, 0, 0, 0, 0, 0, 0, 0, 0, 0, 0, 0, 0, 0, 0, 0, 0, 0, 0, 0, 0, 0, 0, 0, 0, 0, 0, 0, 3, 2, 3, 1, 1, 1, 1, 1, 1, 1, 1, 1, 3, 3, 3, 3, 3, 3, 3, 3, 3, 3, 3, 3, 3, 3, 3, 3, 3, 3, 3, 3, 0, 0, 0, 0, 0, 0, 0, 0, 0, 0, 0, 0, 0, 0, 0, 0, 0, 0, 0, 0, 0, 0, 0, 0, 0, 0, 0, 0, 0, 0, 0, 0, 0, 0, 0, 0, 0, 0, 0, 3, 0, 0, 0, 0, 0, 0, 0, 0, 0, 0, 0, 0, 0, 0, 0, 0, 0, 0, 0, 0, 0, 0, 0, 0, 0, 0, 0, 0, 0, 0, 0, 0, 0, 0, 3, 0, 0, 0, 0, 0, 0, 0, 0, 0, 0, 0, 0, 0, 0, 0, 0, 0, 0, 0, 0, 0, 0, 0, 0, 0, 0, 0, 0, 0, 0, 0, 0, 0, 0, 0, 0, 0, 0, 0, 0, 0, 0, 0, 0, 0, 0, 0, 0, 0, 0, 0, 0, 0, 0]\n",
      "Labels [1.0, 0.0, 0.0, 0.0, 0.0, 0.0]\n"
     ]
    }
   ],
   "source": [
    "# log model setup\n",
    "print(f'Logging run_setup')\n",
    "def is_json_serializable(value):\n",
    "    try:\n",
    "        json.dumps(value)\n",
    "        return True\n",
    "    except (TypeError, OverflowError):\n",
    "        return False\n",
    "\n",
    "args_dict = vars(args)\n",
    "filtered_args = {k: v for k, v in args_dict.items() if is_json_serializable(v)}\n",
    "with open(os.path.join(args.output_dir, f'run_setup.json'), 'w') as f_out:\n",
    "    json.dump(filtered_args, f_out, indent=4)\n",
    "\n",
    "# log imput sample\n",
    "print(f'Logging input sample')\n",
    "input_sample = [tokenizer.convert_ids_to_tokens(ids=train_ds[i]['input_ids']) for i in range(3)]\n",
    "\n",
    "with open(os.path.join(args.output_dir, f'input_sample.json'), 'w') as f_out:\n",
    "    json.dump(input_sample, f_out, indent=4)\n",
    "    \n",
    "# print sample text\n",
    "first_example = train_ds[0]\n",
    "sample_text = tokenizer.convert_ids_to_tokens(ids=first_example['input_ids'])\n",
    "print(f'First example input text: {sample_text}')\n",
    "#print number of predicting targets\n",
    "num_pred_targets = len([token for token in first_example['input_ids'] if token not in [tokenizer.cls_token_id, tokenizer.sep_token_id, tokenizer.pad_token_id]])\n",
    "print(f'Num pred targets (cls: {tokenizer.cls_token}, sep: {tokenizer.sep_token}, pad: {tokenizer.pad_token}): {num_pred_targets}')\n",
    "#print special token in example\n",
    "special_token_ids = [token for token in first_example['input_ids'] if token in tokenizer.additional_special_tokens_ids]\n",
    "print(f'Special tokens in input: {tokenizer.convert_ids_to_tokens(ids=special_token_ids)}')\n",
    "#print labels in example\n",
    "labels = first_example['token_labels'].tolist()\n",
    "print(f'Labels {labels}')\n",
    "labels = first_example['intent_labels'].tolist()\n",
    "print(f'Labels {labels}')"
   ]
  },
  {
   "cell_type": "code",
   "execution_count": null,
   "metadata": {},
   "outputs": [
    {
     "name": "stdout",
     "output_type": "stream",
     "text": [
      "configuring optimizer...\n",
      "\n",
      "starting training...\n"
     ]
    },
    {
     "ename": "RuntimeError",
     "evalue": "stack expects each tensor to be equal size, but got [158] at entry 0 and [138] at entry 1",
     "output_type": "error",
     "traceback": [
      "\u001b[31m---------------------------------------------------------------------------\u001b[39m",
      "\u001b[31mRuntimeError\u001b[39m                              Traceback (most recent call last)",
      "\u001b[36mCell\u001b[39m\u001b[36m \u001b[39m\u001b[32mIn[8]\u001b[39m\u001b[32m, line 13\u001b[39m\n\u001b[32m      5\u001b[39m \u001b[38;5;66;03m# start training\u001b[39;00m\n\u001b[32m      6\u001b[39m trainer = trainer.CustomTrainer(\n\u001b[32m      7\u001b[39m     args=args,\n\u001b[32m      8\u001b[39m     model=ext_model,\n\u001b[32m   (...)\u001b[39m\u001b[32m     11\u001b[39m     test_dataloader=val_dataloader,\n\u001b[32m     12\u001b[39m )\n\u001b[32m---> \u001b[39m\u001b[32m13\u001b[39m \u001b[43mtrainer\u001b[49m\u001b[43m.\u001b[49m\u001b[43mtrain\u001b[49m\u001b[43m(\u001b[49m\u001b[43m)\u001b[49m\n",
      "\u001b[36mFile \u001b[39m\u001b[32m~/lassejantsch/FineCite/finecite/model/trainer.py:296\u001b[39m, in \u001b[36mCustomTrainer.train\u001b[39m\u001b[34m(self)\u001b[39m\n\u001b[32m    294\u001b[39m \u001b[38;5;28;01mfor\u001b[39;00m epoch \u001b[38;5;129;01min\u001b[39;00m \u001b[38;5;28mrange\u001b[39m(\u001b[38;5;28mself\u001b[39m.args.max_epochs):\n\u001b[32m    295\u001b[39m     \u001b[38;5;28mself\u001b[39m.epoch()\n\u001b[32m--> \u001b[39m\u001b[32m296\u001b[39m     \u001b[38;5;28;43mself\u001b[39;49m\u001b[43m.\u001b[49m\u001b[43mtrain_epoch\u001b[49m\u001b[43m(\u001b[49m\u001b[38;5;28;43mself\u001b[39;49m\u001b[43m.\u001b[49m\u001b[43mtrain_dataloader\u001b[49m\u001b[43m)\u001b[49m\n\u001b[32m    297\u001b[39m     val_metric, val_res, output_samples = \u001b[38;5;28mself\u001b[39m.evaluate(\u001b[38;5;28mself\u001b[39m.test_dataloader)\n\u001b[32m    298\u001b[39m     \u001b[38;5;28;01mif\u001b[39;00m val_metric > \u001b[38;5;28mself\u001b[39m.args.best_value:\n",
      "\u001b[36mFile \u001b[39m\u001b[32m~/lassejantsch/FineCite/finecite/model/trainer.py:111\u001b[39m, in \u001b[36mCustomTrainer.train_epoch\u001b[39m\u001b[34m(self, train_dataloader)\u001b[39m\n\u001b[32m    109\u001b[39m agg_loss = []\n\u001b[32m    110\u001b[39m \u001b[38;5;28mself\u001b[39m.model.train()\n\u001b[32m--> \u001b[39m\u001b[32m111\u001b[39m \u001b[43m\u001b[49m\u001b[38;5;28;43;01mfor\u001b[39;49;00m\u001b[43m \u001b[49m\u001b[43m_\u001b[49m\u001b[43m,\u001b[49m\u001b[43mbatch\u001b[49m\u001b[43m \u001b[49m\u001b[38;5;129;43;01min\u001b[39;49;00m\u001b[43m \u001b[49m\u001b[38;5;28;43menumerate\u001b[39;49m\u001b[43m(\u001b[49m\u001b[43mtrain_dataloader\u001b[49m\u001b[43m,\u001b[49m\u001b[43m \u001b[49m\u001b[32;43m0\u001b[39;49m\u001b[43m)\u001b[49m\u001b[43m:\u001b[49m\n\u001b[32m    112\u001b[39m \u001b[43m    \u001b[49m\u001b[43mhs\u001b[49m\u001b[43m,\u001b[49m\u001b[43m \u001b[49m\u001b[43moutput\u001b[49m\u001b[43m,\u001b[49m\u001b[43m \u001b[49m\u001b[43mloss\u001b[49m\u001b[43m \u001b[49m\u001b[43m=\u001b[49m\u001b[43m \u001b[49m\u001b[38;5;28;43mself\u001b[39;49m\u001b[43m.\u001b[49m\u001b[43mmodel\u001b[49m\u001b[43m(\u001b[49m\u001b[43m*\u001b[49m\u001b[43m*\u001b[49m\u001b[43mbatch\u001b[49m\u001b[43m)\u001b[49m\n\u001b[32m    113\u001b[39m \u001b[43m    \u001b[49m\u001b[43magg_loss\u001b[49m\u001b[43m.\u001b[49m\u001b[43mappend\u001b[49m\u001b[43m(\u001b[49m\u001b[43mloss\u001b[49m\u001b[43m)\u001b[49m\n",
      "\u001b[36mFile \u001b[39m\u001b[32m/raid/conda/envs/dacslab_lasse/lib/python3.11/site-packages/torch/utils/data/dataloader.py:708\u001b[39m, in \u001b[36m_BaseDataLoaderIter.__next__\u001b[39m\u001b[34m(self)\u001b[39m\n\u001b[32m    705\u001b[39m \u001b[38;5;28;01mif\u001b[39;00m \u001b[38;5;28mself\u001b[39m._sampler_iter \u001b[38;5;129;01mis\u001b[39;00m \u001b[38;5;28;01mNone\u001b[39;00m:\n\u001b[32m    706\u001b[39m     \u001b[38;5;66;03m# TODO(https://github.com/pytorch/pytorch/issues/76750)\u001b[39;00m\n\u001b[32m    707\u001b[39m     \u001b[38;5;28mself\u001b[39m._reset()  \u001b[38;5;66;03m# type: ignore[call-arg]\u001b[39;00m\n\u001b[32m--> \u001b[39m\u001b[32m708\u001b[39m data = \u001b[38;5;28;43mself\u001b[39;49m\u001b[43m.\u001b[49m\u001b[43m_next_data\u001b[49m\u001b[43m(\u001b[49m\u001b[43m)\u001b[49m\n\u001b[32m    709\u001b[39m \u001b[38;5;28mself\u001b[39m._num_yielded += \u001b[32m1\u001b[39m\n\u001b[32m    710\u001b[39m \u001b[38;5;28;01mif\u001b[39;00m (\n\u001b[32m    711\u001b[39m     \u001b[38;5;28mself\u001b[39m._dataset_kind == _DatasetKind.Iterable\n\u001b[32m    712\u001b[39m     \u001b[38;5;129;01mand\u001b[39;00m \u001b[38;5;28mself\u001b[39m._IterableDataset_len_called \u001b[38;5;129;01mis\u001b[39;00m \u001b[38;5;129;01mnot\u001b[39;00m \u001b[38;5;28;01mNone\u001b[39;00m\n\u001b[32m    713\u001b[39m     \u001b[38;5;129;01mand\u001b[39;00m \u001b[38;5;28mself\u001b[39m._num_yielded > \u001b[38;5;28mself\u001b[39m._IterableDataset_len_called\n\u001b[32m    714\u001b[39m ):\n",
      "\u001b[36mFile \u001b[39m\u001b[32m/raid/conda/envs/dacslab_lasse/lib/python3.11/site-packages/torch/utils/data/dataloader.py:764\u001b[39m, in \u001b[36m_SingleProcessDataLoaderIter._next_data\u001b[39m\u001b[34m(self)\u001b[39m\n\u001b[32m    762\u001b[39m \u001b[38;5;28;01mdef\u001b[39;00m\u001b[38;5;250m \u001b[39m\u001b[34m_next_data\u001b[39m(\u001b[38;5;28mself\u001b[39m):\n\u001b[32m    763\u001b[39m     index = \u001b[38;5;28mself\u001b[39m._next_index()  \u001b[38;5;66;03m# may raise StopIteration\u001b[39;00m\n\u001b[32m--> \u001b[39m\u001b[32m764\u001b[39m     data = \u001b[38;5;28;43mself\u001b[39;49m\u001b[43m.\u001b[49m\u001b[43m_dataset_fetcher\u001b[49m\u001b[43m.\u001b[49m\u001b[43mfetch\u001b[49m\u001b[43m(\u001b[49m\u001b[43mindex\u001b[49m\u001b[43m)\u001b[49m  \u001b[38;5;66;03m# may raise StopIteration\u001b[39;00m\n\u001b[32m    765\u001b[39m     \u001b[38;5;28;01mif\u001b[39;00m \u001b[38;5;28mself\u001b[39m._pin_memory:\n\u001b[32m    766\u001b[39m         data = _utils.pin_memory.pin_memory(data, \u001b[38;5;28mself\u001b[39m._pin_memory_device)\n",
      "\u001b[36mFile \u001b[39m\u001b[32m/raid/conda/envs/dacslab_lasse/lib/python3.11/site-packages/torch/utils/data/_utils/fetch.py:55\u001b[39m, in \u001b[36m_MapDatasetFetcher.fetch\u001b[39m\u001b[34m(self, possibly_batched_index)\u001b[39m\n\u001b[32m     53\u001b[39m \u001b[38;5;28;01melse\u001b[39;00m:\n\u001b[32m     54\u001b[39m     data = \u001b[38;5;28mself\u001b[39m.dataset[possibly_batched_index]\n\u001b[32m---> \u001b[39m\u001b[32m55\u001b[39m \u001b[38;5;28;01mreturn\u001b[39;00m \u001b[38;5;28;43mself\u001b[39;49m\u001b[43m.\u001b[49m\u001b[43mcollate_fn\u001b[49m\u001b[43m(\u001b[49m\u001b[43mdata\u001b[49m\u001b[43m)\u001b[49m\n",
      "\u001b[36mFile \u001b[39m\u001b[32m/raid/conda/envs/dacslab_lasse/lib/python3.11/site-packages/torch/utils/data/_utils/collate.py:398\u001b[39m, in \u001b[36mdefault_collate\u001b[39m\u001b[34m(batch)\u001b[39m\n\u001b[32m    337\u001b[39m \u001b[38;5;28;01mdef\u001b[39;00m\u001b[38;5;250m \u001b[39m\u001b[34mdefault_collate\u001b[39m(batch):\n\u001b[32m    338\u001b[39m \u001b[38;5;250m    \u001b[39m\u001b[33mr\u001b[39m\u001b[33;03m\"\"\"\u001b[39;00m\n\u001b[32m    339\u001b[39m \u001b[33;03m    Take in a batch of data and put the elements within the batch into a tensor with an additional outer dimension - batch size.\u001b[39;00m\n\u001b[32m    340\u001b[39m \n\u001b[32m   (...)\u001b[39m\u001b[32m    396\u001b[39m \u001b[33;03m        >>> default_collate(batch)  # Handle `CustomType` automatically\u001b[39;00m\n\u001b[32m    397\u001b[39m \u001b[33;03m    \"\"\"\u001b[39;00m\n\u001b[32m--> \u001b[39m\u001b[32m398\u001b[39m     \u001b[38;5;28;01mreturn\u001b[39;00m \u001b[43mcollate\u001b[49m\u001b[43m(\u001b[49m\u001b[43mbatch\u001b[49m\u001b[43m,\u001b[49m\u001b[43m \u001b[49m\u001b[43mcollate_fn_map\u001b[49m\u001b[43m=\u001b[49m\u001b[43mdefault_collate_fn_map\u001b[49m\u001b[43m)\u001b[49m\n",
      "\u001b[36mFile \u001b[39m\u001b[32m/raid/conda/envs/dacslab_lasse/lib/python3.11/site-packages/torch/utils/data/_utils/collate.py:171\u001b[39m, in \u001b[36mcollate\u001b[39m\u001b[34m(batch, collate_fn_map)\u001b[39m\n\u001b[32m    165\u001b[39m \u001b[38;5;28;01mif\u001b[39;00m \u001b[38;5;28misinstance\u001b[39m(elem, collections.abc.MutableMapping):\n\u001b[32m    166\u001b[39m     \u001b[38;5;66;03m# The mapping type may have extra properties, so we can't just\u001b[39;00m\n\u001b[32m    167\u001b[39m     \u001b[38;5;66;03m# use `type(data)(...)` to create the new mapping.\u001b[39;00m\n\u001b[32m    168\u001b[39m     \u001b[38;5;66;03m# Create a clone and update it if the mapping type is mutable.\u001b[39;00m\n\u001b[32m    169\u001b[39m     clone = copy.copy(elem)\n\u001b[32m    170\u001b[39m     clone.update(\n\u001b[32m--> \u001b[39m\u001b[32m171\u001b[39m         \u001b[43m{\u001b[49m\n\u001b[32m    172\u001b[39m \u001b[43m            \u001b[49m\u001b[43mkey\u001b[49m\u001b[43m:\u001b[49m\u001b[43m \u001b[49m\u001b[43mcollate\u001b[49m\u001b[43m(\u001b[49m\n\u001b[32m    173\u001b[39m \u001b[43m                \u001b[49m\u001b[43m[\u001b[49m\u001b[43md\u001b[49m\u001b[43m[\u001b[49m\u001b[43mkey\u001b[49m\u001b[43m]\u001b[49m\u001b[43m \u001b[49m\u001b[38;5;28;43;01mfor\u001b[39;49;00m\u001b[43m \u001b[49m\u001b[43md\u001b[49m\u001b[43m \u001b[49m\u001b[38;5;129;43;01min\u001b[39;49;00m\u001b[43m \u001b[49m\u001b[43mbatch\u001b[49m\u001b[43m]\u001b[49m\u001b[43m,\u001b[49m\u001b[43m \u001b[49m\u001b[43mcollate_fn_map\u001b[49m\u001b[43m=\u001b[49m\u001b[43mcollate_fn_map\u001b[49m\n\u001b[32m    174\u001b[39m \u001b[43m            \u001b[49m\u001b[43m)\u001b[49m\n\u001b[32m    175\u001b[39m \u001b[43m            \u001b[49m\u001b[38;5;28;43;01mfor\u001b[39;49;00m\u001b[43m \u001b[49m\u001b[43mkey\u001b[49m\u001b[43m \u001b[49m\u001b[38;5;129;43;01min\u001b[39;49;00m\u001b[43m \u001b[49m\u001b[43melem\u001b[49m\n\u001b[32m    176\u001b[39m \u001b[43m        \u001b[49m\u001b[43m}\u001b[49m\n\u001b[32m    177\u001b[39m     )\n\u001b[32m    178\u001b[39m     \u001b[38;5;28;01mreturn\u001b[39;00m clone\n\u001b[32m    179\u001b[39m \u001b[38;5;28;01melse\u001b[39;00m:\n",
      "\u001b[36mFile \u001b[39m\u001b[32m/raid/conda/envs/dacslab_lasse/lib/python3.11/site-packages/torch/utils/data/_utils/collate.py:172\u001b[39m, in \u001b[36m<dictcomp>\u001b[39m\u001b[34m(.0)\u001b[39m\n\u001b[32m    165\u001b[39m \u001b[38;5;28;01mif\u001b[39;00m \u001b[38;5;28misinstance\u001b[39m(elem, collections.abc.MutableMapping):\n\u001b[32m    166\u001b[39m     \u001b[38;5;66;03m# The mapping type may have extra properties, so we can't just\u001b[39;00m\n\u001b[32m    167\u001b[39m     \u001b[38;5;66;03m# use `type(data)(...)` to create the new mapping.\u001b[39;00m\n\u001b[32m    168\u001b[39m     \u001b[38;5;66;03m# Create a clone and update it if the mapping type is mutable.\u001b[39;00m\n\u001b[32m    169\u001b[39m     clone = copy.copy(elem)\n\u001b[32m    170\u001b[39m     clone.update(\n\u001b[32m    171\u001b[39m         {\n\u001b[32m--> \u001b[39m\u001b[32m172\u001b[39m             key: \u001b[43mcollate\u001b[49m\u001b[43m(\u001b[49m\n\u001b[32m    173\u001b[39m \u001b[43m                \u001b[49m\u001b[43m[\u001b[49m\u001b[43md\u001b[49m\u001b[43m[\u001b[49m\u001b[43mkey\u001b[49m\u001b[43m]\u001b[49m\u001b[43m \u001b[49m\u001b[38;5;28;43;01mfor\u001b[39;49;00m\u001b[43m \u001b[49m\u001b[43md\u001b[49m\u001b[43m \u001b[49m\u001b[38;5;129;43;01min\u001b[39;49;00m\u001b[43m \u001b[49m\u001b[43mbatch\u001b[49m\u001b[43m]\u001b[49m\u001b[43m,\u001b[49m\u001b[43m \u001b[49m\u001b[43mcollate_fn_map\u001b[49m\u001b[43m=\u001b[49m\u001b[43mcollate_fn_map\u001b[49m\n\u001b[32m    174\u001b[39m \u001b[43m            \u001b[49m\u001b[43m)\u001b[49m\n\u001b[32m    175\u001b[39m             \u001b[38;5;28;01mfor\u001b[39;00m key \u001b[38;5;129;01min\u001b[39;00m elem\n\u001b[32m    176\u001b[39m         }\n\u001b[32m    177\u001b[39m     )\n\u001b[32m    178\u001b[39m     \u001b[38;5;28;01mreturn\u001b[39;00m clone\n\u001b[32m    179\u001b[39m \u001b[38;5;28;01melse\u001b[39;00m:\n",
      "\u001b[36mFile \u001b[39m\u001b[32m/raid/conda/envs/dacslab_lasse/lib/python3.11/site-packages/torch/utils/data/_utils/collate.py:155\u001b[39m, in \u001b[36mcollate\u001b[39m\u001b[34m(batch, collate_fn_map)\u001b[39m\n\u001b[32m    153\u001b[39m \u001b[38;5;28;01mif\u001b[39;00m collate_fn_map \u001b[38;5;129;01mis\u001b[39;00m \u001b[38;5;129;01mnot\u001b[39;00m \u001b[38;5;28;01mNone\u001b[39;00m:\n\u001b[32m    154\u001b[39m     \u001b[38;5;28;01mif\u001b[39;00m elem_type \u001b[38;5;129;01min\u001b[39;00m collate_fn_map:\n\u001b[32m--> \u001b[39m\u001b[32m155\u001b[39m         \u001b[38;5;28;01mreturn\u001b[39;00m \u001b[43mcollate_fn_map\u001b[49m\u001b[43m[\u001b[49m\u001b[43melem_type\u001b[49m\u001b[43m]\u001b[49m\u001b[43m(\u001b[49m\u001b[43mbatch\u001b[49m\u001b[43m,\u001b[49m\u001b[43m \u001b[49m\u001b[43mcollate_fn_map\u001b[49m\u001b[43m=\u001b[49m\u001b[43mcollate_fn_map\u001b[49m\u001b[43m)\u001b[49m\n\u001b[32m    157\u001b[39m     \u001b[38;5;28;01mfor\u001b[39;00m collate_type \u001b[38;5;129;01min\u001b[39;00m collate_fn_map:\n\u001b[32m    158\u001b[39m         \u001b[38;5;28;01mif\u001b[39;00m \u001b[38;5;28misinstance\u001b[39m(elem, collate_type):\n",
      "\u001b[36mFile \u001b[39m\u001b[32m/raid/conda/envs/dacslab_lasse/lib/python3.11/site-packages/torch/utils/data/_utils/collate.py:272\u001b[39m, in \u001b[36mcollate_tensor_fn\u001b[39m\u001b[34m(batch, collate_fn_map)\u001b[39m\n\u001b[32m    270\u001b[39m     storage = elem._typed_storage()._new_shared(numel, device=elem.device)\n\u001b[32m    271\u001b[39m     out = elem.new(storage).resize_(\u001b[38;5;28mlen\u001b[39m(batch), *\u001b[38;5;28mlist\u001b[39m(elem.size()))\n\u001b[32m--> \u001b[39m\u001b[32m272\u001b[39m \u001b[38;5;28;01mreturn\u001b[39;00m \u001b[43mtorch\u001b[49m\u001b[43m.\u001b[49m\u001b[43mstack\u001b[49m\u001b[43m(\u001b[49m\u001b[43mbatch\u001b[49m\u001b[43m,\u001b[49m\u001b[43m \u001b[49m\u001b[32;43m0\u001b[39;49m\u001b[43m,\u001b[49m\u001b[43m \u001b[49m\u001b[43mout\u001b[49m\u001b[43m=\u001b[49m\u001b[43mout\u001b[49m\u001b[43m)\u001b[49m\n",
      "\u001b[31mRuntimeError\u001b[39m: stack expects each tensor to be equal size, but got [158] at entry 0 and [138] at entry 1"
     ]
    }
   ],
   "source": [
    "from finecite.model import trainer\n",
    "from importlib import reload\n",
    "reload(trainer)\n",
    "\n",
    "# start training\n",
    "trainer = trainer.CustomTrainer(\n",
    "    args=args,\n",
    "    model=ext_model,\n",
    "    tokenizer=tokenizer,\n",
    "    train_dataloader=train_dataloader,\n",
    "    test_dataloader=val_dataloader,\n",
    ")\n",
    "trainer.train()\n"
   ]
  }
 ],
 "metadata": {
  "kernelspec": {
   "display_name": "dacslab_lasse",
   "language": "python",
   "name": "python3"
  },
  "language_info": {
   "codemirror_mode": {
    "name": "ipython",
    "version": 3
   },
   "file_extension": ".py",
   "mimetype": "text/x-python",
   "name": "python",
   "nbconvert_exporter": "python",
   "pygments_lexer": "ipython3",
   "version": "3.11.11"
  }
 },
 "nbformat": 4,
 "nbformat_minor": 2
}
