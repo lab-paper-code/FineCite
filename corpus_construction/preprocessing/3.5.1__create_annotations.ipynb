{
 "cells": [
  {
   "cell_type": "code",
   "execution_count": 4,
   "metadata": {},
   "outputs": [],
   "source": [
    "import pandas as pd\n",
    "import os\n",
    "from uuid import uuid4\n",
    "import random\n",
    "from sklearn.model_selection import train_test_split"
   ]
  },
  {
   "cell_type": "markdown",
   "metadata": {},
   "source": [
    "# Create the annotations for the database"
   ]
  },
  {
   "cell_type": "code",
   "execution_count": 2,
   "metadata": {},
   "outputs": [],
   "source": [
    "input_dir = 'INPUT_DIR'\n",
    "output_dir = 'OUTPUT_DIR'\n",
    "    \n",
    "#set ouput path if not exists\n",
    "if not os.path.exists(output_dir):\n",
    "    os.makedirs(output_dir)"
   ]
  },
  {
   "cell_type": "code",
   "execution_count": 20,
   "metadata": {},
   "outputs": [],
   "source": [
    "# load data\n",
    "ref_df = pd.read_csv(input_dir + '/db_ref.csv')\n",
    "doc_df = pd.read_csv(input_dir + '/db_doc.csv')\n",
    "cited_doc_df = pd.read_csv(input_dir + '/db_cited_doc.csv')"
   ]
  },
  {
   "cell_type": "code",
   "execution_count": 36,
   "metadata": {},
   "outputs": [
    {
     "data": {
      "text/plain": [
       "1137"
      ]
     },
     "execution_count": 36,
     "metadata": {},
     "output_type": "execute_result"
    }
   ],
   "source": [
    "# filter ref_id (only one id per par)\n",
    "par_ids = ref_df['par_id'].unique().tolist()\n",
    "samples = []\n",
    "for par_id in par_ids:\n",
    "    ref_ids = ref_df[ref_df['par_id']==par_id]['id'].tolist()\n",
    "    if len(ref_ids) == 1:\n",
    "        samples.append(ref_ids[0])\n",
    "    else:\n",
    "        doc_ids = [cited_doc_df[cited_doc_df['ref_id']==id]['doc_id'].tolist() for id in ref_ids]\n",
    "        rating = []\n",
    "        for docs in doc_ids:\n",
    "            rating_ = []\n",
    "            for doc in docs:\n",
    "                row = doc_df[doc_df['id']==doc]\n",
    "                if row['title'].values[0] == 'unknown':\n",
    "                    rating_.append(False)\n",
    "                else:\n",
    "                    rating_.append(True)\n",
    "            rating.append(any(rating_))\n",
    "        better_refs = [id for i, id in enumerate(ref_ids) if rating[i] ]\n",
    "        if better_refs:\n",
    "            samples.append(random.sample(better_refs, 1)[0])\n",
    "        else:\n",
    "            samples.append(random.sample(ref_ids, 1)[0])\n",
    "len(samples)\n",
    "    "
   ]
  },
  {
   "cell_type": "code",
   "execution_count": 41,
   "metadata": {},
   "outputs": [],
   "source": [
    "user_ids = {\n",
    "    'user1':'5a5fb90d-8b63-41e0-9647-65aa975c3a82',\n",
    "    'user2':'2f3aacef-d202-402d-b257-5c232b1c55c9',\n",
    "    }\n",
    "active_users = [v for k, v in user_ids.items() if k in ['user1', 'user2']]\n",
    "\n",
    "user_pairs =[]\n",
    "for i in range(len(active_users)):\n",
    "    for j in range(i +1, len(active_users)):\n",
    "        user_pairs.append([active_users[i],active_users[j]])\n",
    "random.shuffle(user_pairs)\n",
    "\n",
    "samples = random.sample(samples, len(samples))\n",
    "\n",
    "q = round(len(samples)/4)\n",
    "\n",
    "sample_1 = samples[:q]\n",
    "sample_2 = samples[q:q*2]\n",
    "sample_3 = samples[q*2:q*3]\n",
    "sample_4 = samples[q*3:]\n",
    "\n",
    "\n",
    "for nr, sample in enumerate([sample_1, sample_2, sample_3, sample_4]):\n",
    "    ann_df = pd.DataFrame(columns=['user_id', 'ref_id', 'guideline_version'])\n",
    "    t_1, t_2 = train_test_split(sample, test_size=0.1)\n",
    "    for i,task in enumerate(t_1):\n",
    "        ann_df.loc[len(ann_df)] = [active_users[i%len(active_users)], task, 2.0]\n",
    "    for i, task in enumerate(t_2):\n",
    "        for user in user_pairs[i%len(user_pairs)]:\n",
    "            ann_df.loc[len(ann_df)] = [user, task, 2.0]\n",
    "    ann_df.to_csv(output_dir + f'OUTPUT_FILE', index=False)"
   ]
  }
 ],
 "metadata": {
  "kernelspec": {
   "display_name": ".venv",
   "language": "python",
   "name": "python3"
  },
  "language_info": {
   "codemirror_mode": {
    "name": "ipython",
    "version": 3
   },
   "file_extension": ".py",
   "mimetype": "text/x-python",
   "name": "python",
   "nbconvert_exporter": "python",
   "pygments_lexer": "ipython3",
   "version": "3.11.9"
  }
 },
 "nbformat": 4,
 "nbformat_minor": 2
}
