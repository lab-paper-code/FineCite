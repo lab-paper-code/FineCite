{
 "cells": [
  {
   "cell_type": "code",
   "execution_count": 62,
   "metadata": {},
   "outputs": [],
   "source": [
    "import pandas as pd\n",
    "import os\n",
    "import json\n",
    "import re\n",
    "from difflib import SequenceMatcher"
   ]
  },
  {
   "cell_type": "code",
   "execution_count": 63,
   "metadata": {},
   "outputs": [],
   "source": [
    "# import excluded titles\n",
    "excluded_titles = pd.read_csv('../data/utility_data/excluded_titles.csv')\n",
    "\n",
    "#inport settings\n",
    "sample = True\n",
    "\n",
    "#set input and output dir\n",
    "if sample:\n",
    "    input_dir = '../data/sample/1_json'\n",
    "    output_dir = '../data/sample/2_clean_json'\n",
    "else:\n",
    "    input_dir = '../data/result/1_json'\n",
    "    output_dir = '../data/result/2_clean_json'\n",
    "    \n",
    "#set ouput path if not exists\n",
    "if not os.path.exists(output_dir):\n",
    "    os.makedirs(output_dir)"
   ]
  },
  {
   "cell_type": "code",
   "execution_count": 64,
   "metadata": {},
   "outputs": [],
   "source": [
    "total_files_loaded = 0\n",
    "processed_files_count = 0\n",
    "total_paragraphs_count = 0\n"
   ]
  },
  {
   "cell_type": "code",
   "execution_count": 65,
   "metadata": {},
   "outputs": [],
   "source": [
    "if not os.path.exists(output_dir):\n",
    "    os.makedirs(output_dir)"
   ]
  },
  {
   "cell_type": "code",
   "execution_count": 66,
   "metadata": {},
   "outputs": [
    {
     "name": "stdout",
     "output_type": "stream",
     "text": [
      "Europarl: A Parallel Corpus for Statistical Machine Translation europarl a parallel corpus for statistical machine translation\n"
     ]
    }
   ],
   "source": [
    "#total files in input dir\n",
    "total_files_loaded = len(os.listdir(input_dir))\n",
    "\n",
    "#iterate over all files\n",
    "for filename in os.listdir(input_dir):\n",
    "    \n",
    "    #open document if .json\n",
    "    if filename.endswith('.json'):  \n",
    "        input_file_path = os.path.join(input_dir, filename)\n",
    "        with open(input_file_path, 'r', encoding='utf-8') as file:\n",
    "            data = json.load(file)\n",
    "            \n",
    "        # skipp documents with faulty meta data or insufficient size\n",
    "        if data['title'] is None or \\\n",
    "            len(data['authors']) < 1 or \\\n",
    "            any(auth['last_name'] is None for auth in data['authors']) or \\\n",
    "            data['pub_year'] is None or data['pub_year'] < 1950 or data['pub_year'] > 2024 or \\\n",
    "            len(data['references']) < 5 or \\\n",
    "            len(data['sections']) < 3 or\\\n",
    "            data['lang'] != 'en':\n",
    "                continue\n",
    "            \n",
    "        #check whether title is in excluded titles\n",
    "        title_is_dublicate = False\n",
    "        for title in excluded_titles['title']:\n",
    "            s = SequenceMatcher(None, data['title'], title)\n",
    "            if s.ratio() > 0.80:\n",
    "                print(data['title'], title)\n",
    "                title_is_dublicate = True\n",
    "                break\n",
    "        if title_is_dublicate:\n",
    "            continue\n",
    "        \n",
    "        # Filter Paragraphs and count the cumulative count\n",
    "        # delete all paragraphs that have no refs\n",
    "        filtered_sections = []\n",
    "        targets = [ref['id'] for ref in data['references']]\n",
    "        for section in data.get('sections', []):\n",
    "            pars = ''.join(section['paragraphs'])\n",
    "            if re.search(r'<ref.*?<\\/ref>', pars) is not None:\n",
    "                filtered_sections.append(section)                                   \n",
    "                total_paragraphs_count += len(section['paragraphs'])\n",
    "            else:\n",
    "                continue\n",
    "            \n",
    "        data['sections'] = filtered_sections\n",
    "        \n",
    "        #check for insufficient length after removing references and paragraphs\n",
    "        if len(data['references']) < 5 or \\\n",
    "           len(data['sections']) < 3:\n",
    "            continue\n",
    "\n",
    "           \n",
    "        # save file\n",
    "        output_file_path = os.path.join(output_dir, filename)     \n",
    "        with open(output_file_path, 'w', encoding='utf-8') as outfile:\n",
    "            json.dump(data, outfile, indent=4, ensure_ascii=False)\n",
    "        processed_files_count += 1\n"
   ]
  },
  {
   "cell_type": "code",
   "execution_count": 67,
   "metadata": {},
   "outputs": [
    {
     "name": "stdout",
     "output_type": "stream",
     "text": [
      "Total loaded files: 80\n",
      "Total processed files: 73\n",
      "Total paragraphs count: 2258\n"
     ]
    }
   ],
   "source": [
    "print(f\"Total loaded files: {total_files_loaded}\")\n",
    "print(f\"Total processed files: {processed_files_count}\")\n",
    "print(f\"Total paragraphs count: {total_paragraphs_count}\")"
   ]
  }
 ],
 "metadata": {
  "kernelspec": {
   "display_name": "venv",
   "language": "python",
   "name": "python3"
  },
  "language_info": {
   "codemirror_mode": {
    "name": "ipython",
    "version": 3
   },
   "file_extension": ".py",
   "mimetype": "text/x-python",
   "name": "python",
   "nbconvert_exporter": "python",
   "pygments_lexer": "ipython3",
   "version": "3.12.2"
  }
 },
 "nbformat": 4,
 "nbformat_minor": 2
}
