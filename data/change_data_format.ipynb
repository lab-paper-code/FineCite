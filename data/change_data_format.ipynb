{
 "cells": [
  {
   "cell_type": "code",
   "execution_count": 12,
   "metadata": {},
   "outputs": [],
   "source": [
    "import json\n",
    "import pandas as pd\n",
    "import re"
   ]
  },
  {
   "cell_type": "code",
   "execution_count": 46,
   "metadata": {},
   "outputs": [],
   "source": [
    "split = 'train'\n",
    "\n",
    "\n",
    "# Load the data\n",
    "df = pd.read_csv(f'{split}.csv')\n",
    "\n",
    "# convert to jsonl\n",
    "data = []\n",
    "for index, row in df.iterrows():\n",
    "    sample = {}\n",
    "    sample['id'] = row['id']\n",
    "    sample['citing_paper'] = {\n",
    "        'title': row['citing_title'] if row['citing_title'] != 'unknown' else None,\n",
    "        'year': row['citing_year'] if row['citing_year'] != 'unknown' else None,\n",
    "        'authors': str(row['citing_authors']).split(';') if row['citing_authors'] != 'unknown' else None\n",
    "    }\n",
    "\n",
    "    paragraph = eval(str(row['paragraph']))\n",
    "    ref_loc = []\n",
    "    for word_id, word in enumerate(paragraph):\n",
    "        match = re.match(r'<ref[^>]*?>(.*?)</ref>', word)\n",
    "        if not match: continue\n",
    "        paragraph[word_id] = match.group(1)\n",
    "        ref_loc.append(word_id)\n",
    "    sample['text'] = paragraph\n",
    "\n",
    "    # Parse the cited data into lists\n",
    "    cited_titles = eval(str(row['cited_title']))\n",
    "    cited_years = eval(str(row['cited_year']))\n",
    "    cited_authors = [authors.split(';') for authors in eval(str(row['cited_authors']))]\n",
    "\n",
    "    # Create list of cited paper dictionaries\n",
    "    sample['cited_papers'] = []\n",
    "    for i in range(len(cited_titles)):\n",
    "        cited_paper = {\n",
    "            'title': cited_titles[i] if cited_titles[i] != 'unknown' else None,\n",
    "            'year': cited_years[i] if cited_years[i] != 'unknown' else None,\n",
    "            'authors': cited_authors[i] if cited_authors[i] != 'unknown' else None,\n",
    "        }\n",
    "        sample['cited_papers'].append(cited_paper)\n",
    "\n",
    "    sample['target_citation_location'] = int(row['target_reference_location'])\n",
    "    sample['citation_locations'] = ref_loc\n",
    "    sample['citation_type'] = row['citation_type']\n",
    "    sample['annotations'] = [\n",
    "        eval(str(row['context_location_1'])),\n",
    "        # eval(str(row['context_location_2']))\n",
    "    ]\n",
    "    data.append(sample)\n"
   ]
  },
  {
   "cell_type": "code",
   "execution_count": 47,
   "metadata": {},
   "outputs": [],
   "source": [
    "# save to jsonl using split\n",
    "with open(f'{split}.jsonl', 'w') as f:\n",
    "    for sample in data:\n",
    "        f.write(json.dumps(sample) + '\\n')"
   ]
  }
 ],
 "metadata": {
  "kernelspec": {
   "display_name": "dacslab_lasse",
   "language": "python",
   "name": "python3"
  },
  "language_info": {
   "codemirror_mode": {
    "name": "ipython",
    "version": 3
   },
   "file_extension": ".py",
   "mimetype": "text/x-python",
   "name": "python",
   "nbconvert_exporter": "python",
   "pygments_lexer": "ipython3",
   "version": "3.11.11"
  }
 },
 "nbformat": 4,
 "nbformat_minor": 2
}
