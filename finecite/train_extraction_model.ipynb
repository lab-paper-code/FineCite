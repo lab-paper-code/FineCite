{
 "cells": [
  {
   "cell_type": "code",
   "execution_count": 1,
   "metadata": {},
   "outputs": [],
   "source": [
    "\n",
    "import os\n",
    "os.environ['CUDA_VISIBLE_DEVICES']='2'\n",
    "import json\n",
    "import re\n",
    "from datetime import datetime\n",
    "import sys\n",
    "import argparse\n",
    "\n",
    "import torch\n",
    "from torch.utils.data import DataLoader\n",
    "from dotenv import load_dotenv\n",
    "\n",
    "load_dotenv()\n",
    "DATA_DIR = os.getenv('DATA_DIR')\n",
    "CACHE_DIR = os.getenv('CACHE_DIR')\n",
    "OUT_DIR = os.getenv('OUT_DIR')\n",
    "FINECITE_PATH = os.getenv('FINECITE_PATH')\n",
    "if FINECITE_PATH not in sys.path:\n",
    "    sys.path.append(FINECITE_PATH)\n",
    "\n",
    "from finecite.utils import set_seed, get_class_weights\n",
    "from finecite.data_processing import load_processor\n",
    "from finecite.model import CustomTrainer, ExtractionModel, ClassificationModel, load_classifier, load_tokenizer_embedding_model, MODEL_DESCRIPTION"
   ]
  },
  {
   "cell_type": "code",
   "execution_count": null,
   "metadata": {},
   "outputs": [],
   "source": [
    "parser = argparse.ArgumentParser(description='Seq_tagger parser')\n",
    "args = parser.parse_args([])\n",
    "args.model_name = 'scibert' # scibert llm2vec_mistral llm2vec_llama3\n",
    "args.ext_type = 'bilstm_crf' # linear, bilstm, crf, bilstm_crf\n",
    "args.iob_labels = False\n",
    "\n",
    "args.batch_size = 4\n",
    "args.learning_rate = 3e-05\n",
    "args.crf_learning_rate = 0.005\n",
    "args.dropout = 0.1\n",
    "\n",
    "args.save_model = True\n",
    "args.debug = True\n",
    "args.debug_size = 100\n",
    "args.seed = 4455"
   ]
  },
  {
   "cell_type": "code",
   "execution_count": null,
   "metadata": {},
   "outputs": [],
   "source": [
    "args.dataset = 'finecite'\n",
    "args.task = 'ext'\n",
    "\n",
    "args.max_epochs = 20\n",
    "args.patients = 5\n",
    "args.adam_epsilon = 1e-08\n",
    "args.weight_decay = 0.0\n",
    "args.use_prompt = 'llm2vec' in args.model_name\n",
    "args.dtype = torch.float32\n",
    "\n",
    "# model description\n",
    "args.model_desc = MODEL_DESCRIPTION[args.model_name]\n",
    "args.max_len = args.model_desc['max_len']\n",
    "\n",
    "# input directory\n",
    "args.input_dir = f'{DATA_DIR}/{args.dataset}/'\n",
    "\n",
    "# output directory\n",
    "args.output_dir = re.sub(r'[.:*?\"<>|\\s-]','_',(\n",
    "    f\"{OUT_DIR}/\"\n",
    "    f\"{'_debug/' if args.debug else ''}\"\n",
    "    f\"{args.dataset}/{args.model_name}/\"\n",
    "    f\"{args.ext_type}\"\n",
    "    f\"{'__' + datetime.now().strftime('%m_%d_%H_%M_%S') if args.debug else ''}/\"\n",
    "))\n",
    "args.model_output_file = args.output_dir + 'safetensors.pt'\n",
    "\n",
    "os.makedirs(args.output_dir, exist_ok=True)\n",
    "\n",
    "# model cache dir\n",
    "if 'llm2vec' in args.model_name:\n",
    "    args.base_model_dir =  f'{CACHE_DIR}/{args.model_name}/'\n",
    "    os.makedirs(args.base_model_dir, exist_ok=True)\n",
    "\n",
    "set_seed(args.seed)\n",
    "args.device = torch.device('cuda' if torch.cuda.is_available() else 'cpu')"
   ]
  },
  {
   "cell_type": "code",
   "execution_count": 4,
   "metadata": {},
   "outputs": [
    {
     "name": "stdout",
     "output_type": "stream",
     "text": [
      "loading model embedding model...\n"
     ]
    },
    {
     "name": "stdout",
     "output_type": "stream",
     "text": [
      "loading scibert model...\n"
     ]
    }
   ],
   "source": [
    "#load model and tokenizer\n",
    "print('loading model embedding model...')\n",
    "tokenizer, embedding_model = load_tokenizer_embedding_model(args)"
   ]
  },
  {
   "cell_type": "code",
   "execution_count": 5,
   "metadata": {},
   "outputs": [
    {
     "name": "stdout",
     "output_type": "stream",
     "text": [
      "100 97\n"
     ]
    }
   ],
   "source": [
    "#load data processor\n",
    "processor = load_processor(args, tokenizer)\n",
    "\n",
    "# load data\n",
    "train_data = processor.read_data('train')\n",
    "test_data = processor.read_data('test')\n",
    "\n",
    "# create dataset\n",
    "train_ds, weights, num_labels = processor.create_features(train_data)\n",
    "test_ds, _ , _ = processor.create_features(test_data)\n",
    "args.label_weights = weights\n",
    "args.num_labels = num_labels\n",
    "args.num_training_steps = int(len(train_data) / args.batch_size) * args.max_epochs\n",
    "\n",
    "print(len(train_ds), len(test_ds))\n",
    "\n",
    "#Dataloader\n",
    "train_dataloader = DataLoader(train_ds, shuffle=True, batch_size=args.batch_size, num_workers=0) \n",
    "val_dataloader =  DataLoader(test_ds, shuffle=True, batch_size=args.batch_size, num_workers=0)"
   ]
  },
  {
   "cell_type": "code",
   "execution_count": 6,
   "metadata": {},
   "outputs": [
    {
     "name": "stdout",
     "output_type": "stream",
     "text": [
      "loading extraction model...\n"
     ]
    }
   ],
   "source": [
    "print('loading extraction model...')\n",
    "ext_model = ExtractionModel(args, embedding_model)"
   ]
  },
  {
   "cell_type": "code",
   "execution_count": 7,
   "metadata": {},
   "outputs": [
    {
     "name": "stdout",
     "output_type": "stream",
     "text": [
      "Logging run_setup\n",
      "Logging input sample\n",
      "First example input text: ['[CLS]', 'neural', 'machine', 'translation', '(', 'nm', '##t', ')', 'has', 'opened', 'several', 'research', 'directions', 'to', 'exploit', 'as', 'many', 'and', 'diverse', 'data', 'as', 'possible', '.', 'massive', 'multil', '##ingual', 'nm', '##t', 'models', ',', 'for', 'instance', ',', 'take', 'advantage', 'of', 'several', 'language', '-', 'pair', 'datasets', 'in', 'a', 'single', 'system', '<', 'target', '_', 'citation', '/', '>', 'this', 'offers', 'several', 'advantages', ',', 'such', 'as', 'a', 'simple', 'training', 'process', 'and', 'enhanced', 'performance', 'of', 'the', 'language', '-', 'pairs', 'with', 'little', 'data', '(', 'although', 'sometimes', 'detrimental', 'to', 'the', 'high', '-', 'resource', 'language', '-', 'pairs', ')', '.', 'however', ',', 'massive', 'models', 'of', 'do', '##zens', 'of', 'languages', 'are', 'not', 'necessarily', 'the', 'best', 'outcome', ',', 'as', 'it', 'is', 'demonstrated', 'that', 'smaller', 'clusters', 'still', 'offer', 'the', 'same', 'benefits', '<', 'citation', '/', '>', '[SEP]', '[PAD]', '[PAD]', '[PAD]', '[PAD]', '[PAD]', '[PAD]', '[PAD]', '[PAD]', '[PAD]', '[PAD]', '[PAD]', '[PAD]', '[PAD]', '[PAD]', '[PAD]', '[PAD]', '[PAD]', '[PAD]', '[PAD]', '[PAD]', '[PAD]', '[PAD]', '[PAD]', '[PAD]', '[PAD]', '[PAD]', '[PAD]', '[PAD]', '[PAD]', '[PAD]', '[PAD]', '[PAD]', '[PAD]', '[PAD]', '[PAD]', '[PAD]', '[PAD]', '[PAD]', '[PAD]', '[PAD]', '[PAD]', '[PAD]', '[PAD]', '[PAD]', '[PAD]', '[PAD]', '[PAD]', '[PAD]', '[PAD]', '[PAD]', '[PAD]', '[PAD]', '[PAD]', '[PAD]', '[PAD]', '[PAD]', '[PAD]', '[PAD]', '[PAD]', '[PAD]', '[PAD]', '[PAD]', '[PAD]', '[PAD]', '[PAD]', '[PAD]', '[PAD]', '[PAD]', '[PAD]', '[PAD]', '[PAD]', '[PAD]', '[PAD]', '[PAD]', '[PAD]', '[PAD]', '[PAD]', '[PAD]', '[PAD]', '[PAD]', '[PAD]', '[PAD]', '[PAD]', '[PAD]', '[PAD]', '[PAD]', '[PAD]', '[PAD]', '[PAD]', '[PAD]', '[PAD]', '[PAD]', '[PAD]', '[PAD]', '[PAD]', '[PAD]', '[PAD]', '[PAD]', '[PAD]', '[PAD]', '[PAD]', '[PAD]', '[PAD]', '[PAD]', '[PAD]', '[PAD]', '[PAD]', '[PAD]', '[PAD]', '[PAD]', '[PAD]', '[PAD]', '[PAD]', '[PAD]', '[PAD]', '[PAD]', '[PAD]', '[PAD]', '[PAD]', '[PAD]', '[PAD]', '[PAD]', '[PAD]', '[PAD]', '[PAD]', '[PAD]', '[PAD]', '[PAD]', '[PAD]', '[PAD]', '[PAD]', '[PAD]', '[PAD]', '[PAD]', '[PAD]', '[PAD]', '[PAD]', '[PAD]', '[PAD]', '[PAD]', '[PAD]', '[PAD]', '[PAD]', '[PAD]', '[PAD]', '[PAD]', '[PAD]', '[PAD]', '[PAD]', '[PAD]', '[PAD]', '[PAD]', '[PAD]', '[PAD]', '[PAD]', '[PAD]', '[PAD]', '[PAD]', '[PAD]', '[PAD]', '[PAD]', '[PAD]', '[PAD]', '[PAD]', '[PAD]', '[PAD]', '[PAD]', '[PAD]', '[PAD]', '[PAD]', '[PAD]', '[PAD]', '[PAD]', '[PAD]', '[PAD]', '[PAD]', '[PAD]', '[PAD]', '[PAD]', '[PAD]', '[PAD]', '[PAD]', '[PAD]', '[PAD]', '[PAD]', '[PAD]', '[PAD]', '[PAD]', '[PAD]', '[PAD]', '[PAD]', '[PAD]', '[PAD]', '[PAD]', '[PAD]', '[PAD]', '[PAD]', '[PAD]', '[PAD]', '[PAD]', '[PAD]', '[PAD]', '[PAD]', '[PAD]', '[PAD]', '[PAD]', '[PAD]', '[PAD]', '[PAD]', '[PAD]', '[PAD]', '[PAD]', '[PAD]', '[PAD]', '[PAD]', '[PAD]', '[PAD]', '[PAD]', '[PAD]', '[PAD]', '[PAD]', '[PAD]', '[PAD]', '[PAD]', '[PAD]', '[PAD]', '[PAD]', '[PAD]', '[PAD]', '[PAD]', '[PAD]', '[PAD]', '[PAD]', '[PAD]', '[PAD]', '[PAD]', '[PAD]', '[PAD]', '[PAD]', '[PAD]', '[PAD]', '[PAD]', '[PAD]', '[PAD]', '[PAD]', '[PAD]', '[PAD]', '[PAD]', '[PAD]', '[PAD]', '[PAD]', '[PAD]', '[PAD]', '[PAD]', '[PAD]', '[PAD]', '[PAD]', '[PAD]', '[PAD]', '[PAD]', '[PAD]', '[PAD]', '[PAD]', '[PAD]', '[PAD]', '[PAD]', '[PAD]', '[PAD]', '[PAD]', '[PAD]', '[PAD]', '[PAD]', '[PAD]', '[PAD]', '[PAD]', '[PAD]', '[PAD]', '[PAD]', '[PAD]', '[PAD]', '[PAD]', '[PAD]', '[PAD]', '[PAD]', '[PAD]', '[PAD]', '[PAD]', '[PAD]', '[PAD]', '[PAD]', '[PAD]', '[PAD]', '[PAD]', '[PAD]', '[PAD]', '[PAD]', '[PAD]', '[PAD]', '[PAD]', '[PAD]', '[PAD]', '[PAD]', '[PAD]', '[PAD]', '[PAD]', '[PAD]', '[PAD]', '[PAD]', '[PAD]', '[PAD]', '[PAD]', '[PAD]', '[PAD]', '[PAD]', '[PAD]', '[PAD]', '[PAD]', '[PAD]', '[PAD]', '[PAD]', '[PAD]', '[PAD]', '[PAD]', '[PAD]', '[PAD]', '[PAD]', '[PAD]', '[PAD]', '[PAD]', '[PAD]', '[PAD]', '[PAD]', '[PAD]', '[PAD]', '[PAD]', '[PAD]', '[PAD]', '[PAD]', '[PAD]', '[PAD]', '[PAD]', '[PAD]', '[PAD]', '[PAD]', '[PAD]', '[PAD]', '[PAD]', '[PAD]', '[PAD]', '[PAD]', '[PAD]', '[PAD]', '[PAD]', '[PAD]', '[PAD]', '[PAD]', '[PAD]', '[PAD]', '[PAD]', '[PAD]', '[PAD]', '[PAD]', '[PAD]', '[PAD]', '[PAD]', '[PAD]', '[PAD]', '[PAD]', '[PAD]', '[PAD]', '[PAD]', '[PAD]', '[PAD]', '[PAD]', '[PAD]', '[PAD]', '[PAD]', '[PAD]', '[PAD]', '[PAD]', '[PAD]', '[PAD]', '[PAD]', '[PAD]', '[PAD]', '[PAD]', '[PAD]', '[PAD]', '[PAD]', '[PAD]', '[PAD]', '[PAD]']\n",
      "Num pred targets (cls: [CLS], sep: [SEP], pad: [PAD]): 118\n",
      "Special tokens in input: []\n",
      "Labels [[-100, 3, 3, 3, 3, 3, 3, 3, 3, 3, 3, 3, 3, 3, 3, 3, 3, 3, 3, 3, 3, 3, 3, 1, 1, 1, 1, 1, 1, 1, 1, 1, 1, 1, 1, 1, 1, 1, 1, 1, 1, 1, 1, 1, 1, 1, 1, 1, 1, 1, 1, 0, 0, 0, 0, 0, 0, 0, 0, 0, 0, 0, 0, 0, 0, 0, 0, 0, 0, 0, 0, 0, 0, 0, 0, 0, 0, 0, 0, 0, 0, 0, 0, 0, 0, 0, 0, 0, 0, 0, 0, 0, 0, 0, 0, 0, 0, 0, 0, 0, 0, 0, 0, 0, 0, 0, 0, 0, 0, 0, 0, 0, 0, 0, 0, 0, 0, 0, 0, -100, -100, -100, -100, -100, -100, -100, -100, -100, -100, -100, -100, -100, -100, -100, -100, -100, -100, -100, -100, -100, -100, -100, -100, -100, -100, -100, -100, -100, -100, -100, -100, -100, -100, -100, -100, -100, -100, -100, -100, -100, -100, -100, -100, -100, -100, -100, -100, -100, -100, -100, -100, -100, -100, -100, -100, -100, -100, -100, -100, -100, -100, -100, -100, -100, -100, -100, -100, -100, -100, -100, -100, -100, -100, -100, -100, -100, -100, -100, -100, -100, -100, -100, -100, -100, -100, -100, -100, -100, -100, -100, -100, -100, -100, -100, -100, -100, -100, -100, -100, -100, -100, -100, -100, -100, -100, -100, -100, -100, -100, -100, -100, -100, -100, -100, -100, -100, -100, -100, -100, -100, -100, -100, -100, -100, -100, -100, -100, -100, -100, -100, -100, -100, -100, -100, -100, -100, -100, -100, -100, -100, -100, -100, -100, -100, -100, -100, -100, -100, -100, -100, -100, -100, -100, -100, -100, -100, -100, -100, -100, -100, -100, -100, -100, -100, -100, -100, -100, -100, -100, -100, -100, -100, -100, -100, -100, -100, -100, -100, -100, -100, -100, -100, -100, -100, -100, -100, -100, -100, -100, -100, -100, -100, -100, -100, -100, -100, -100, -100, -100, -100, -100, -100, -100, -100, -100, -100, -100, -100, -100, -100, -100, -100, -100, -100, -100, -100, -100, -100, -100, -100, -100, -100, -100, -100, -100, -100, -100, -100, -100, -100, -100, -100, -100, -100, -100, -100, -100, -100, -100, -100, -100, -100, -100, -100, -100, -100, -100, -100, -100, -100, -100, -100, -100, -100, -100, -100, -100, -100, -100, -100, -100, -100, -100, -100, -100, -100, -100, -100, -100, -100, -100, -100, -100, -100, -100, -100, -100, -100, -100, -100, -100, -100, -100, -100, -100, -100, -100, -100, -100, -100, -100, -100, -100, -100, -100, -100, -100, -100, -100, -100, -100, -100, -100, -100, -100, -100, -100, -100, -100, -100, -100, -100, -100, -100, -100, -100, -100, -100, -100, -100, -100, -100, -100, -100, -100, -100, -100, -100, -100, -100, -100, -100, -100, -100, -100, -100, -100, -100, -100, -100, -100, -100, -100, -100, -100, -100, -100, -100, -100, -100, -100, -100, -100, -100, -100, -100, -100, -100, -100, -100, -100, -100, -100, -100, -100, -100, -100, -100, -100, -100, -100, -100, -100, -100, -100, -100, -100, -100, -100, -100, -100, -100, -100, -100, -100, -100, -100, -100, -100, -100, -100, -100]]\n"
     ]
    }
   ],
   "source": [
    "# log model setup\n",
    "print(f'Logging run_setup')\n",
    "def is_json_serializable(value):\n",
    "    try:\n",
    "        json.dumps(value)\n",
    "        return True\n",
    "    except (TypeError, OverflowError):\n",
    "        return False\n",
    "\n",
    "args_dict = vars(args)\n",
    "filtered_args = {k: v for k, v in args_dict.items() if is_json_serializable(v)}\n",
    "with open(os.path.join(args.output_dir, f'run_setup.json'), 'w') as f_out:\n",
    "    json.dump(filtered_args, f_out, indent=4)\n",
    "\n",
    "# log imput sample\n",
    "print(f'Logging input sample')\n",
    "input_sample = [tokenizer.convert_ids_to_tokens(ids=train_ds[i]['input_ids']) for i in range(3)]\n",
    "\n",
    "with open(os.path.join(args.output_dir, f'input_sample.json'), 'w') as f_out:\n",
    "    json.dump(input_sample, f_out, indent=4)\n",
    "    \n",
    "# print sample text\n",
    "first_example = train_ds[0]\n",
    "sample_text = tokenizer.convert_ids_to_tokens(ids=first_example['input_ids'])\n",
    "print(f'First example input text: {sample_text}')\n",
    "#print number of predicting targets\n",
    "num_pred_targets = len([token for token in first_example['input_ids'] if token not in [tokenizer.cls_token_id, tokenizer.sep_token_id, tokenizer.pad_token_id]])\n",
    "print(f'Num pred targets (cls: {tokenizer.cls_token}, sep: {tokenizer.sep_token}, pad: {tokenizer.pad_token}): {num_pred_targets}')\n",
    "#print special token in example\n",
    "special_token_ids = [token for token in first_example['input_ids'] if token in tokenizer.additional_special_tokens_ids]\n",
    "print(f'Special tokens in input: {tokenizer.convert_ids_to_tokens(ids=special_token_ids)}')\n",
    "#print labels in example\n",
    "labels = first_example['token_labels'].tolist()\n",
    "print(f'Labels {labels}')"
   ]
  },
  {
   "cell_type": "code",
   "execution_count": 8,
   "metadata": {},
   "outputs": [
    {
     "name": "stdout",
     "output_type": "stream",
     "text": [
      "configuring optimizer...\n",
      "\n",
      "starting training...\n"
     ]
    },
    {
     "name": "stdout",
     "output_type": "stream",
     "text": [
      "{'epoch': 1, 'loss': 2.073, 'acc': [0.579, 0.584], 'macro_f1': 0.0, 'total_f1': 0.0, 'inf_f1': 0.0, 'perc_f1': 0.0, 'back_f1': 0.0}\n",
      "{'epoch': 2, 'loss': 2.05, 'acc': [0.579, 0.584], 'macro_f1': 0.0, 'total_f1': 0.0, 'inf_f1': 0.0, 'perc_f1': 0.0, 'back_f1': 0.0}\n",
      "{'epoch': 3, 'loss': 1.838, 'acc': [0.564, 0.563], 'macro_f1': 0.192, 'total_f1': 0.57, 'inf_f1': 0.238, 'perc_f1': 0.157, 'back_f1': 0.18}\n",
      "{'current_epoch': 4, 'current_step': 100, 'avg_loss': 1.55439, 'max_loss': 2.45031, 'min_loss': 0.77334}\n",
      "{'epoch': 4, 'loss': 1.569, 'acc': [0.66, 0.662], 'macro_f1': 0.249, 'total_f1': 0.606, 'inf_f1': 0.581, 'perc_f1': 0.09, 'back_f1': 0.076}\n",
      "{'epoch': 5, 'loss': 1.536, 'acc': [0.664, 0.66], 'macro_f1': 0.268, 'total_f1': 0.662, 'inf_f1': 0.59, 'perc_f1': 0.121, 'back_f1': 0.094}\n",
      "{'epoch': 6, 'loss': 1.508, 'acc': [0.655, 0.645], 'macro_f1': 0.352, 'total_f1': 0.731, 'inf_f1': 0.622, 'perc_f1': 0.245, 'back_f1': 0.19}\n",
      "{'epoch': 7, 'loss': 1.494, 'acc': [0.677, 0.669], 'macro_f1': 0.337, 'total_f1': 0.736, 'inf_f1': 0.643, 'perc_f1': 0.227, 'back_f1': 0.142}\n",
      "{'current_epoch': 8, 'current_step': 200, 'avg_loss': 0.73579, 'max_loss': 1.17044, 'min_loss': 0.33291}\n",
      "{'epoch': 8, 'loss': 1.583, 'acc': [0.681, 0.676], 'macro_f1': 0.368, 'total_f1': 0.716, 'inf_f1': 0.658, 'perc_f1': 0.245, 'back_f1': 0.202}\n",
      "{'epoch': 9, 'loss': 1.676, 'acc': [0.661, 0.661], 'macro_f1': 0.386, 'total_f1': 0.752, 'inf_f1': 0.664, 'perc_f1': 0.225, 'back_f1': 0.27}\n",
      "{'epoch': 10, 'loss': 1.777, 'acc': [0.673, 0.684], 'macro_f1': 0.421, 'total_f1': 0.7255, 'inf_f1': 0.66, 'perc_f1': 0.3, 'back_f1': 0.302}\n",
      "{'epoch': 11, 'loss': 2.006, 'acc': [0.687, 0.697], 'macro_f1': 0.398, 'total_f1': 0.678, 'inf_f1': 0.642, 'perc_f1': 0.392, 'back_f1': 0.161}\n",
      "{'current_epoch': 12, 'current_step': 300, 'avg_loss': 0.28533, 'max_loss': 0.7707, 'min_loss': 0.08749}\n",
      "{'epoch': 12, 'loss': 1.92, 'acc': [0.677, 0.687], 'macro_f1': 0.418, 'total_f1': 0.731, 'inf_f1': 0.656, 'perc_f1': 0.38, 'back_f1': 0.218}\n",
      "{'epoch': 13, 'loss': 1.954, 'acc': [0.672, 0.684], 'macro_f1': 0.429, 'total_f1': 0.736, 'inf_f1': 0.658, 'perc_f1': 0.37, 'back_f1': 0.26}\n",
      "{'epoch': 14, 'loss': 1.924, 'acc': [0.668, 0.689], 'macro_f1': 0.444, 'total_f1': 0.7424999999999999, 'inf_f1': 0.655, 'perc_f1': 0.397, 'back_f1': 0.279}\n",
      "{'epoch': 15, 'loss': 2.082, 'acc': [0.683, 0.697], 'macro_f1': 0.442, 'total_f1': 0.7255, 'inf_f1': 0.675, 'perc_f1': 0.381, 'back_f1': 0.269}\n",
      "{'current_epoch': 16, 'current_step': 400, 'avg_loss': 0.14044, 'max_loss': 0.25931, 'min_loss': 0.07669}\n",
      "{'epoch': 16, 'loss': 2.103, 'acc': [0.687, 0.699], 'macro_f1': 0.44, 'total_f1': 0.71, 'inf_f1': 0.668, 'perc_f1': 0.403, 'back_f1': 0.249}\n",
      "{'epoch': 17, 'loss': 2.158, 'acc': [0.68, 0.694], 'macro_f1': 0.439, 'total_f1': 0.7215, 'inf_f1': 0.674, 'perc_f1': 0.356, 'back_f1': 0.288}\n",
      "{'epoch': 18, 'loss': 2.151, 'acc': [0.686, 0.699], 'macro_f1': 0.439, 'total_f1': 0.7175, 'inf_f1': 0.676, 'perc_f1': 0.387, 'back_f1': 0.254}\n",
      "{'epoch': 19, 'loss': 2.231, 'acc': [0.684, 0.701], 'macro_f1': 0.443, 'total_f1': 0.72, 'inf_f1': 0.673, 'perc_f1': 0.401, 'back_f1': 0.255}\n",
      "Logging validation scores for best epoch\n",
      "Logging best output samples\n"
     ]
    }
   ],
   "source": [
    "# start training\n",
    "trainer = CustomTrainer(\n",
    "    args=args,\n",
    "    model=ext_model,\n",
    "    tokenizer=tokenizer,\n",
    "    train_dataloader=train_dataloader,\n",
    "    test_dataloader=val_dataloader,\n",
    ")\n",
    "trainer.train()\n"
   ]
  }
 ],
 "metadata": {
  "kernelspec": {
   "display_name": "dacslab_lasse",
   "language": "python",
   "name": "python3"
  },
  "language_info": {
   "codemirror_mode": {
    "name": "ipython",
    "version": 3
   },
   "file_extension": ".py",
   "mimetype": "text/x-python",
   "name": "python",
   "nbconvert_exporter": "python",
   "pygments_lexer": "ipython3",
   "version": "3.11.11"
  }
 },
 "nbformat": 4,
 "nbformat_minor": 2
}
