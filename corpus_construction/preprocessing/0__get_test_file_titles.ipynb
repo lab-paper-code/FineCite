{
 "cells": [
  {
   "cell_type": "code",
   "execution_count": 6,
   "metadata": {},
   "outputs": [],
   "source": [
    "import pandas as pd\n",
    "import os\n",
    "\n",
    "DATA_DIR = '../data'\n",
    "DATA_SET = ['acl_arc','sdp_act']\n",
    "FILES =['test_raw.txt', 'train_raw.txt']\n",
    "\n",
    "title_df = pd.DataFrame(columns=('data', 'title'))\n",
    "\n",
    "for set in DATA_SET:\n",
    "    for file in FILES:\n",
    "        data_df = pd.read_csv(os.path.join(DATA_DIR, set, file), sep=\"\\t\", engine=\"python\", dtype=object)\n",
    "        for idx, row in data_df.iterrows():\n",
    "            title_df.loc[len(title_df)] = [set, row['cited_title'].lower()]\n",
    "            \n",
    "title_df.drop_duplicates(inplace=True)\n",
    "\n",
    "title_df.to_csv('../data/utility_data/excluded_titles.csv', index=False)\n"
   ]
  }
 ],
 "metadata": {
  "language_info": {
   "name": "python"
  }
 },
 "nbformat": 4,
 "nbformat_minor": 2
}
