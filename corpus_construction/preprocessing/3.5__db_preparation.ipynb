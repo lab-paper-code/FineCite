{
 "cells": [
  {
   "cell_type": "code",
   "execution_count": 1,
   "metadata": {},
   "outputs": [],
   "source": [
    "import pandas as pd\n",
    "import os"
   ]
  },
  {
   "cell_type": "code",
   "execution_count": 2,
   "metadata": {},
   "outputs": [],
   "source": [
    "# set dir name\n",
    "\n",
    "#inport settings\n",
    "sample = True\n",
    "\n",
    "#set input and output dir\n",
    "if sample:\n",
    "    input_dir = '../data/sample/3_structured_data'\n",
    "    output_dir = '../data/sample/3.5_db_ready_data'\n",
    "else:\n",
    "    input_dir = '../data/result/3_structured_data'\n",
    "    output_dir = '../data/result/3.5_db_ready_data'\n",
    "    \n",
    "#set ouput path if not exists\n",
    "if not os.path.exists(output_dir):\n",
    "    os.makedirs(output_dir)"
   ]
  },
  {
   "cell_type": "code",
   "execution_count": 3,
   "metadata": {},
   "outputs": [],
   "source": [
    "# load data\n",
    "ref_df = pd.read_csv(input_dir + '/ref.csv')\n",
    "par_df = pd.read_csv(input_dir + '/par.csv')\n",
    "doc_df = pd.read_csv(input_dir + '/doc.csv')"
   ]
  },
  {
   "cell_type": "code",
   "execution_count": 4,
   "metadata": {},
   "outputs": [
    {
     "data": {
      "text/html": [
       "<div>\n",
       "<style scoped>\n",
       "    .dataframe tbody tr th:only-of-type {\n",
       "        vertical-align: middle;\n",
       "    }\n",
       "\n",
       "    .dataframe tbody tr th {\n",
       "        vertical-align: top;\n",
       "    }\n",
       "\n",
       "    .dataframe thead th {\n",
       "        text-align: right;\n",
       "    }\n",
       "</style>\n",
       "<table border=\"1\" class=\"dataframe\">\n",
       "  <thead>\n",
       "    <tr style=\"text-align: right;\">\n",
       "      <th></th>\n",
       "      <th>ref_id</th>\n",
       "      <th>doc_id</th>\n",
       "    </tr>\n",
       "  </thead>\n",
       "  <tbody>\n",
       "    <tr>\n",
       "      <th>0</th>\n",
       "      <td>cfc06ae8-61f3-4e68-a10d-86c30663a847</td>\n",
       "      <td>2e3d5752-e2ec-49c7-bc66-a2a7c07875b4</td>\n",
       "    </tr>\n",
       "    <tr>\n",
       "      <th>1</th>\n",
       "      <td>3bdcf8da-ac96-44d2-bdef-7a0f626588d1</td>\n",
       "      <td>dbf39945-c3ef-4fde-a98f-1fa7afe85d37</td>\n",
       "    </tr>\n",
       "    <tr>\n",
       "      <th>2</th>\n",
       "      <td>aca2c3e5-d8e4-4430-b259-9a50ec3e2ba4</td>\n",
       "      <td>4e0637a7-b2da-43bb-9d8c-b538ae8353ef</td>\n",
       "    </tr>\n",
       "    <tr>\n",
       "      <th>3</th>\n",
       "      <td>aca2c3e5-d8e4-4430-b259-9a50ec3e2ba4</td>\n",
       "      <td>28e6a7e3-7633-4d1c-90ac-9c260f56259c</td>\n",
       "    </tr>\n",
       "    <tr>\n",
       "      <th>4</th>\n",
       "      <td>aca2c3e5-d8e4-4430-b259-9a50ec3e2ba4</td>\n",
       "      <td>5fba9ffc-b6d5-41d8-997e-d43ea196447a</td>\n",
       "    </tr>\n",
       "  </tbody>\n",
       "</table>\n",
       "</div>"
      ],
      "text/plain": [
       "                                 ref_id                                doc_id\n",
       "0  cfc06ae8-61f3-4e68-a10d-86c30663a847  2e3d5752-e2ec-49c7-bc66-a2a7c07875b4\n",
       "1  3bdcf8da-ac96-44d2-bdef-7a0f626588d1  dbf39945-c3ef-4fde-a98f-1fa7afe85d37\n",
       "2  aca2c3e5-d8e4-4430-b259-9a50ec3e2ba4  4e0637a7-b2da-43bb-9d8c-b538ae8353ef\n",
       "3  aca2c3e5-d8e4-4430-b259-9a50ec3e2ba4  28e6a7e3-7633-4d1c-90ac-9c260f56259c\n",
       "4  aca2c3e5-d8e4-4430-b259-9a50ec3e2ba4  5fba9ffc-b6d5-41d8-997e-d43ea196447a"
      ]
     },
     "execution_count": 4,
     "metadata": {},
     "output_type": "execute_result"
    }
   ],
   "source": [
    "# create cited_doc-doc match df\n",
    "\n",
    "cited_doc_df = pd.DataFrame(columns=['ref_id', 'doc_id'])\n",
    "\n",
    "for i, row in ref_df.iterrows():\n",
    "    for ref in row['cited_doc_id'].split(';'):\n",
    "        cited_doc_df.loc[len(cited_doc_df)] = [row['id'], ref]\n",
    "\n",
    "cited_doc_df.drop_duplicates(inplace=True)\n",
    "ref_df.drop(columns=['cited_doc_id'], inplace=True)\n",
    "\n",
    "cited_doc_df.head()"
   ]
  },
  {
   "cell_type": "code",
   "execution_count": 5,
   "metadata": {},
   "outputs": [],
   "source": [
    "# save data\n",
    "ref_df.to_csv(output_dir + '/db_ref.csv', index=False)\n",
    "par_df.to_csv(output_dir + '/db_par.csv', index=False)\n",
    "cited_doc_df.to_csv(output_dir + '/db_cited_doc.csv', index=False)\n",
    "doc_df.to_csv(output_dir + '/db_doc.csv', index=False)"
   ]
  }
 ],
 "metadata": {
  "kernelspec": {
   "display_name": ".venv",
   "language": "python",
   "name": "python3"
  },
  "language_info": {
   "codemirror_mode": {
    "name": "ipython",
    "version": 3
   },
   "file_extension": ".py",
   "mimetype": "text/x-python",
   "name": "python",
   "nbconvert_exporter": "python",
   "pygments_lexer": "ipython3",
   "version": "3.11.9"
  }
 },
 "nbformat": 4,
 "nbformat_minor": 2
}
