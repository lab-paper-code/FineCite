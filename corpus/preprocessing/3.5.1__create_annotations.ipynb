{
 "cells": [
  {
   "cell_type": "code",
   "execution_count": 4,
   "metadata": {},
   "outputs": [],
   "source": [
    "import pandas as pd\n",
    "import os\n",
    "from uuid import uuid4\n",
    "import random\n",
    "from sklearn.model_selection import train_test_split"
   ]
  },
  {
   "cell_type": "code",
   "execution_count": 2,
   "metadata": {},
   "outputs": [],
   "source": [
    "# set dir name\n",
    "\n",
    "#inport settings\n",
    "sample = True\n",
    "\n",
    "#set input and output dir\n",
    "if sample:\n",
    "    input_dir = '../data/sample/3.5_db_ready_data'\n",
    "    output_dir = '../data/sample/3.5_db_ready_data'\n",
    "else:\n",
    "    input_dir = '../data/result/3.5_db_ready_data'\n",
    "    output_dir = '../data/result/3.5_db_ready_data'\n",
    "    \n",
    "#set ouput path if not exists\n",
    "if not os.path.exists(output_dir):\n",
    "    os.makedirs(output_dir)"
   ]
  },
  {
   "cell_type": "code",
   "execution_count": 20,
   "metadata": {},
   "outputs": [],
   "source": [
    "# load data\n",
    "ref_df = pd.read_csv(input_dir + '/db_ref.csv')\n",
    "doc_df = pd.read_csv(input_dir + '/db_doc.csv')\n",
    "cited_doc_df = pd.read_csv(input_dir + '/db_cited_doc.csv')\n",
    "\n",
    "#used_refs = pd.concat([pd])"
   ]
  },
  {
   "cell_type": "code",
   "execution_count": 4,
   "metadata": {},
   "outputs": [
    {
     "data": {
      "text/html": [
       "<div>\n",
       "<style scoped>\n",
       "    .dataframe tbody tr th:only-of-type {\n",
       "        vertical-align: middle;\n",
       "    }\n",
       "\n",
       "    .dataframe tbody tr th {\n",
       "        vertical-align: top;\n",
       "    }\n",
       "\n",
       "    .dataframe thead th {\n",
       "        text-align: right;\n",
       "    }\n",
       "</style>\n",
       "<table border=\"1\" class=\"dataframe\">\n",
       "  <thead>\n",
       "    <tr style=\"text-align: right;\">\n",
       "      <th></th>\n",
       "      <th>user_id</th>\n",
       "      <th>ref_id</th>\n",
       "    </tr>\n",
       "  </thead>\n",
       "  <tbody>\n",
       "    <tr>\n",
       "      <th>0</th>\n",
       "      <td>b1e7a387-42fd-412d-9e63-f0ddd9c97953</td>\n",
       "      <td>f4765c8b-411c-4c95-8986-94ff4bb7b8c4</td>\n",
       "      <td>8966bb20-3a81-4a94-8a70-55b0382b0d55</td>\n",
       "    </tr>\n",
       "    <tr>\n",
       "      <th>1</th>\n",
       "      <td>e23eb8e6-6ca3-478b-82c5-83c03fb8fc5f</td>\n",
       "      <td>f4765c8b-411c-4c95-8986-94ff4bb7b8c4</td>\n",
       "      <td>284ca3f5-24c0-4b4f-a29e-732a696d5b32</td>\n",
       "    </tr>\n",
       "    <tr>\n",
       "      <th>2</th>\n",
       "      <td>ec11a38c-a3f1-4dff-9860-f659d5bb179a</td>\n",
       "      <td>f4765c8b-411c-4c95-8986-94ff4bb7b8c4</td>\n",
       "      <td>013c773d-0228-480a-a4f4-ca732c468b37</td>\n",
       "    </tr>\n",
       "    <tr>\n",
       "      <th>3</th>\n",
       "      <td>09722e33-3901-4468-a0c6-693d298a9319</td>\n",
       "      <td>f4765c8b-411c-4c95-8986-94ff4bb7b8c4</td>\n",
       "      <td>e95401b0-018d-43a1-88bb-2feb7d0c1c41</td>\n",
       "    </tr>\n",
       "    <tr>\n",
       "      <th>4</th>\n",
       "      <td>e3967520-48a8-4280-bac1-e0e522784e4e</td>\n",
       "      <td>f4765c8b-411c-4c95-8986-94ff4bb7b8c4</td>\n",
       "      <td>1a88376b-4e3a-4774-bdc7-eb9d36067655</td>\n",
       "    </tr>\n",
       "  </tbody>\n",
       "</table>\n",
       "</div>"
      ],
      "text/plain": [
       "                                user_id                                ref_id\n",
       "0  b614b18d-d6e6-44c1-82f6-cd6bfcd975f7  9d89d178-0516-457d-b76d-13b54646051b\n",
       "1  27bceafd-e469-42ef-af63-c59ab4e1dc1c  9d89d178-0516-457d-b76d-13b54646051b\n",
       "2  5a5fb90d-8b63-41e0-9647-65aa975c3a82  67231f82-c26e-4286-b82d-601c8d319efe\n",
       "3  b614b18d-d6e6-44c1-82f6-cd6bfcd975f7  67231f82-c26e-4286-b82d-601c8d319efe\n",
       "4  f4765c8b-411c-4c95-8986-94ff4bb7b8c4  228b5cca-5e4b-432e-8bf1-f0ef2f16a2c6"
      ]
     },
     "execution_count": 21,
     "metadata": {},
     "output_type": "execute_result"
    }
   ],
   "source": [
    "# test\n",
    "user_ids = {\n",
    "    'minjun':'5a5fb90d-8b63-41e0-9647-65aa975c3a82',\n",
    "    'jisu':'2f3aacef-d202-402d-b257-5c232b1c55c9',\n",
    "    'lasse':'f4765c8b-411c-4c95-8986-94ff4bb7b8c4',\n",
    "    'joel':'b614b18d-d6e6-44c1-82f6-cd6bfcd975f7',\n",
    "    'dongjae':'27bceafd-e469-42ef-af63-c59ab4e1dc1c',\n",
    "    }\n",
    "active_users = [v for k, v in user_ids.items() if k in ['lasse', 'jisu', 'joel', 'minjun', 'dongjae']]\n",
    "user_pairs =[]\n",
    "for i in range(len(active_users)):\n",
    "    for j in range(i +1, len(active_users)):\n",
    "        user_pairs.append([active_users[i],active_users[j]])\n",
    "\n",
    "random.shuffle(user_pairs)\n",
    "\n",
    "ann_df = pd.DataFrame(columns=['user_id', 'ref_id'])\n",
    "\n",
    "sample = random.sample(ref_df['id'].to_list(), 50)\n",
    "\n",
    "for i, samp in enumerate(sample):\n",
    "    for u in user_pairs[i%len(user_pairs)]:\n",
    "        ann_df.loc[len(ann_df)] = [u, samp]\n",
    "        \n",
    "\n",
    "ann_df.head()"
   ]
  },
  {
   "cell_type": "code",
   "execution_count": 36,
   "metadata": {},
   "outputs": [
    {
     "data": {
      "text/plain": [
       "1137"
      ]
     },
     "execution_count": 36,
     "metadata": {},
     "output_type": "execute_result"
    }
   ],
   "source": [
    "# filter ref_id (only one id per par)\n",
    "par_ids = ref_df['par_id'].unique().tolist()\n",
    "samples = []\n",
    "for par_id in par_ids:\n",
    "    ref_ids = ref_df[ref_df['par_id']==par_id]['id'].tolist()\n",
    "    if len(ref_ids) == 1:\n",
    "        samples.append(ref_ids[0])\n",
    "    else:\n",
    "        doc_ids = [cited_doc_df[cited_doc_df['ref_id']==id]['doc_id'].tolist() for id in ref_ids]\n",
    "        rating = []\n",
    "        for docs in doc_ids:\n",
    "            rating_ = []\n",
    "            for doc in docs:\n",
    "                row = doc_df[doc_df['id']==doc]\n",
    "                if row['title'].values[0] == 'unknown':\n",
    "                    rating_.append(False)\n",
    "                else:\n",
    "                    rating_.append(True)\n",
    "            rating.append(any(rating_))\n",
    "        better_refs = [id for i, id in enumerate(ref_ids) if rating[i] ]\n",
    "        if better_refs:\n",
    "            samples.append(random.sample(better_refs, 1)[0])\n",
    "        else:\n",
    "            samples.append(random.sample(ref_ids, 1)[0])\n",
    "len(samples)\n",
    "    "
   ]
  },
  {
   "cell_type": "code",
   "execution_count": 41,
   "metadata": {},
   "outputs": [],
   "source": [
    "user_ids = {\n",
    "    'minjun':'5a5fb90d-8b63-41e0-9647-65aa975c3a82',\n",
    "    'jisu':'2f3aacef-d202-402d-b257-5c232b1c55c9',\n",
    "    'lasse':'f4765c8b-411c-4c95-8986-94ff4bb7b8c4',\n",
    "    'joel':'b614b18d-d6e6-44c1-82f6-cd6bfcd975f7',\n",
    "    'dongjae':'27bceafd-e469-42ef-af63-c59ab4e1dc1c',\n",
    "    }\n",
    "active_users = [v for k, v in user_ids.items() if k in ['lasse', 'jisu', 'joel', 'minjun', 'dongjae']]\n",
    "\n",
    "user_pairs =[]\n",
    "for i in range(len(active_users)):\n",
    "    for j in range(i +1, len(active_users)):\n",
    "        user_pairs.append([active_users[i],active_users[j]])\n",
    "random.shuffle(user_pairs)\n",
    "\n",
    "samples = random.sample(samples, len(samples))\n",
    "\n",
    "q = round(len(samples)/4)\n",
    "\n",
    "sample_1 = samples[:q]\n",
    "sample_2 = samples[q:q*2]\n",
    "sample_3 = samples[q*2:q*3]\n",
    "sample_4 = samples[q*3:]\n",
    "\n",
    "\n",
    "for nr, sample in enumerate([sample_1, sample_2, sample_3, sample_4]):\n",
    "    ann_df = pd.DataFrame(columns=['user_id', 'ref_id', 'guideline_version'])\n",
    "    t_1, t_2 = train_test_split(sample, test_size=0.1)\n",
    "    for i,task in enumerate(t_1):\n",
    "        ann_df.loc[len(ann_df)] = [active_users[i%len(active_users)], task, 2.0]\n",
    "    for i, task in enumerate(t_2):\n",
    "        for user in user_pairs[i%len(user_pairs)]:\n",
    "            ann_df.loc[len(ann_df)] = [user, task, 2.0]\n",
    "    ann_df.to_csv(output_dir + f'/db_ann_06_04_nr_{nr}.csv', index=False)"
   ]
  },
  {
   "cell_type": "code",
   "execution_count": 22,
   "metadata": {},
   "outputs": [],
   "source": [
    "# save data\n",
    "#ann_df.to_csv(output_dir + '/db_ann_test_23_5.csv', index=False)\n",
    "\n"
   ]
  }
 ],
 "metadata": {
  "kernelspec": {
   "display_name": ".venv",
   "language": "python",
   "name": "python3"
  },
  "language_info": {
   "codemirror_mode": {
    "name": "ipython",
    "version": 3
   },
   "file_extension": ".py",
   "mimetype": "text/x-python",
   "name": "python",
   "nbconvert_exporter": "python",
   "pygments_lexer": "ipython3",
   "version": "3.11.9"
  }
 },
 "nbformat": 4,
 "nbformat_minor": 2
}
