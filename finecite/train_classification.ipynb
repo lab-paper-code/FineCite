{
 "cells": [
  {
   "cell_type": "code",
   "execution_count": 1,
   "metadata": {},
   "outputs": [],
   "source": [
    "\n",
    "import os\n",
    "os.environ['CUDA_VISIBLE_DEVICES']='2'\n",
    "import json\n",
    "import re\n",
    "from datetime import datetime\n",
    "import sys\n",
    "import argparse\n",
    "\n",
    "import torch\n",
    "from torch.utils.data import DataLoader\n",
    "from dotenv import load_dotenv\n",
    "\n",
    "load_dotenv()\n",
    "DATA_DIR = os.getenv('DATA_DIR')\n",
    "CACHE_DIR = os.getenv('CACHE_DIR')\n",
    "OUT_DIR = os.getenv('OUT_DIR')\n",
    "FINECITE_PATH = os.getenv('FINECITE_PATH')\n",
    "if FINECITE_PATH not in sys.path:\n",
    "    sys.path.append(FINECITE_PATH)\n",
    "\n",
    "from finecite.utils import set_seed, get_class_weights\n",
    "from finecite.data_processing import load_processor\n",
    "from finecite.model import CustomTrainer, ExtractionModel, ClassificationModel, load_classifier, load_tokenizer_embedding_model, MODEL_DESCRIPTION"
   ]
  },
  {
   "cell_type": "code",
   "execution_count": null,
   "metadata": {},
   "outputs": [],
   "source": [
    "parser = argparse.ArgumentParser(description='Seq_tagger parser')\n",
    "args = parser.parse_args([])\n",
    "args.model_name = 'scibert' # scibert llm2vec_mistral llm2vec_llama3\n",
    "args.ext_model = 'scibert' # scibert llm2vec_mistral llm2vec_llama3\n",
    "args.dataset = 'acl-arc' # 'acl-arc', 'act2', 'scicite', 'multicite'\n",
    "args.ext_type = 'bilstm_crf' # linear, bilstm, crf, bilstm_crf\n",
    "args.cls_type = 'linear' # weighted, balanced, linear, inf, perc, back\n",
    "\n",
    "args.batch_size = 4\n",
    "args.learning_rate = 2e-05\n",
    "args.crf_learning_rate = 0.005\n",
    "args.dropout = 0.1\n",
    "\n",
    "args.save_model = False\n",
    "args.cached_data = False\n",
    "args.debug = True\n",
    "args.debug_size = 100\n",
    "args.seed = 4455"
   ]
  },
  {
   "cell_type": "code",
   "execution_count": 3,
   "metadata": {},
   "outputs": [],
   "source": [
    "args.task = 'cls'\n",
    "args.max_epochs = 20\n",
    "args.patients = 5\n",
    "args.adam_epsilon = 1e-08\n",
    "args.weight_decay = 0.0\n",
    "args.use_prompt = 'llm2vec' in args.model_name\n",
    "args.dtype = torch.float32\n",
    "\n",
    "# model description\n",
    "args.model_desc = MODEL_DESCRIPTION[args.model_name]\n",
    "args.max_len = args.model_desc['max_len']\n",
    "\n",
    "# input directory\n",
    "args.input_dir = f'{DATA_DIR}/{args.dataset}/'\n",
    "\n",
    "# output directory\n",
    "args.output_dir = re.sub(r'[.:*?\"<>|\\s-]','_',(\n",
    "    f\"{OUT_DIR}/\"\n",
    "    f\"{'_debug/' if args.debug else ''}\"\n",
    "    f\"{args.dataset}/{args.model_name}/\"\n",
    "    f\"{args.ext_type}__{args.batch_size}__{args.learning_rate}__{args.dropout}\"\n",
    "    f\"{'__' + datetime.now().strftime('%m_%d_%H_%M_%S') if args.debug else ''}/\"\n",
    "))\n",
    "args.model_output_file = re.sub(r'[.:*?\"<>|\\s]','_',(\n",
    "    f\"{OUT_DIR}/\"\n",
    "    f\"{'_debug/' if args.debug else ''}\"\n",
    "    f\"{args.dataset}/{args.model_name}/\"\n",
    "    f\"safetensors__{args.batch_size}__{args.learning_rate}__{args.dropout}.pt\"\n",
    "))\n",
    "\n",
    "os.makedirs(args.output_dir, exist_ok=True)\n",
    "\n",
    "# model cache dir\n",
    "if 'llm2vec' in args.model_name:\n",
    "    args.base_model_dir =  f'{CACHE_DIR}/{args.model_name}/'\n",
    "    os.makedirs(args.base_model_dir, exist_ok=True)\n",
    "\n",
    "# data cache dir\n",
    "args.data_cache_dir =  f'{CACHE_DIR}/{args.dataset}/'\n",
    "os.makedirs(args.data_cache_dir, exist_ok=True)\n",
    "\n",
    "# ext model dir\n",
    "args.ext_model_dir = re.sub(r'[.:*?\"<>|\\s-]','_',(\n",
    "    f\"{OUT_DIR}/finecite/{args.ext_model}/{args.ext_type}\"\n",
    "))\n",
    "set_seed(args.seed)\n",
    "args.device = torch.device('cuda' if torch.cuda.is_available() else 'cpu')"
   ]
  },
  {
   "cell_type": "markdown",
   "metadata": {},
   "source": [
    "## Extract Label"
   ]
  },
  {
   "cell_type": "code",
   "execution_count": 4,
   "metadata": {},
   "outputs": [
    {
     "name": "stdout",
     "output_type": "stream",
     "text": [
      "loading extraction model...\n"
     ]
    },
    {
     "name": "stdout",
     "output_type": "stream",
     "text": [
      "loading scibert model...\n"
     ]
    },
    {
     "data": {
      "text/plain": [
       "<All keys matched successfully>"
      ]
     },
     "execution_count": 4,
     "metadata": {},
     "output_type": "execute_result"
    }
   ],
   "source": [
    "with open(f'{args.ext_model_dir}/run_setup.json', 'r') as f:\n",
    "    ext_args =  argparse.Namespace(**json.load(f))\n",
    "    \n",
    "ext_args.device = torch.device('cuda' if torch.cuda.is_available() else 'cpu')\n",
    "ext_args.dtype = args.dtype\n",
    "\n",
    "print('loading extraction model...')\n",
    "tokenizer, embedding_model = load_tokenizer_embedding_model(ext_args)\n",
    "ext_args.cls_token_id = tokenizer.cls_token_id\n",
    "ext_args.sep_token_id = tokenizer.sep_token_id\n",
    "ext_args.pad_token_id = tokenizer.pad_token_id\n",
    "\n",
    "ext_model = ExtractionModel(ext_args, embedding_model)\n",
    "\n",
    "ext_model.load_state_dict(torch.load(f'{args.ext_model_dir}/safetensors.pt'))"
   ]
  },
  {
   "cell_type": "code",
   "execution_count": null,
   "metadata": {},
   "outputs": [
    {
     "name": "stderr",
     "output_type": "stream",
     "text": [
      "/tmp/ipykernel_1062895/4174651498.py:38: UserWarning: To copy construct from a tensor, it is recommended to use sourceTensor.clone().detach() or sourceTensor.clone().detach().requires_grad_(True), rather than torch.tensor(sourceTensor).\n",
      "  train_ds = [{**example, 'token_labels': torch.tensor(tok_lbl, dtype=torch.long)} for example, tok_lbl in zip(train_ds, train_lbls)]\n",
      "/tmp/ipykernel_1062895/4174651498.py:39: UserWarning: To copy construct from a tensor, it is recommended to use sourceTensor.clone().detach() or sourceTensor.clone().detach().requires_grad_(True), rather than torch.tensor(sourceTensor).\n",
      "  test_ds = [{**example, 'token_labels': torch.tensor(tok_lbl, dtype=torch.long)}for example, tok_lbl in zip(test_ds, test_lbls)]\n"
     ]
    }
   ],
   "source": [
    "#load data processor\n",
    "processor = load_processor(args, tokenizer)\n",
    "\n",
    "# load data\n",
    "train_data = processor.read_data('train')\n",
    "test_data = processor.read_data('test')\n",
    "\n",
    "# create dataset\n",
    "train_ds, weights, num_labels = processor.create_features(train_data)\n",
    "test_ds, _ , _ = processor.create_features(test_data)\n",
    "args.label_weights = weights\n",
    "args.num_labels = num_labels\n",
    "args.num_training_steps = int(len(train_data) / args.batch_size) * args.max_epochs\n",
    "\n",
    "train_file = f'{args.ext_model}_{args.ext_type}_train.pt'\n",
    "test_file = f'{args.ext_model}_{args.ext_type}_test.pt'\n",
    "# check cached examples\n",
    "if args.cached_data and train_file in os.listdir(args.data_cache_dir) and test_file in os.listdir(args.data_cache_dir):\n",
    "    train_ds = torch.load(os.path.join(args.data_cache_dir, train_file), weights_only=False)\n",
    "    test_ds = torch.load(os.path.join(args.data_cache_dir, test_file), weights_only=False)\n",
    "else:\n",
    "\n",
    "    # dataloader\n",
    "    train_dl = DataLoader(train_ds, batch_size = args.batch_size, shuffle=False)\n",
    "    test_dl = DataLoader(test_ds, batch_size = args.batch_size, shuffle=False)\n",
    "    \n",
    "    #extract context\n",
    "    train_lbls = ext_model.extract_token_labels(train_dl)\n",
    "    test_lbls = ext_model.extract_token_labels(test_dl)\n",
    "    \n",
    "    assert len(train_ds) == len(train_lbls) and len(test_ds) == len(test_lbls) \n",
    "    \n",
    "    #add context to dataset\n",
    "    train_ds = [{**example, 'token_labels': torch.tensor(tok_lbl, dtype=torch.long)} for example, tok_lbl in zip(train_ds, train_lbls)]\n",
    "    test_ds = [{**example, 'token_labels': torch.tensor(tok_lbl, dtype=torch.long)}for example, tok_lbl in zip(test_ds, test_lbls)]\n",
    "    \n",
    "    #cache data\n",
    "    torch.save(train_ds, os.path.join(args.data_cache_dir, train_file))\n",
    "    torch.save(test_ds, os.path.join(args.data_cache_dir, test_file))\n",
    "\n",
    "#Dataloader\n",
    "train_dataloader = DataLoader(train_ds, shuffle=True, batch_size=args.batch_size, num_workers=0) \n",
    "val_dataloader =  DataLoader(test_ds, shuffle=True, batch_size=args.batch_size, num_workers=0)"
   ]
  },
  {
   "cell_type": "markdown",
   "metadata": {},
   "source": [
    "## classification"
   ]
  },
  {
   "cell_type": "code",
   "execution_count": 6,
   "metadata": {},
   "outputs": [
    {
     "name": "stdout",
     "output_type": "stream",
     "text": [
      "loading model embedding model...\n"
     ]
    },
    {
     "name": "stdout",
     "output_type": "stream",
     "text": [
      "loading scibert model...\n",
      "loading extraction model...\n"
     ]
    }
   ],
   "source": [
    "#load model and tokenizer\n",
    "print('loading model embedding model...')\n",
    "tokenizer, embedding_model = load_tokenizer_embedding_model(args)\n",
    "print('loading extraction model...')\n",
    "ext_model = ClassificationModel(args, embedding_model)"
   ]
  },
  {
   "cell_type": "code",
   "execution_count": 7,
   "metadata": {},
   "outputs": [
    {
     "name": "stdout",
     "output_type": "stream",
     "text": [
      "Logging run_setup\n",
      "Logging input sample\n",
      "First example input text: ['[CLS]', 'before', 'we', 'turn', 'to', 'swedish', 'and', 'turkish', ',', 'focusing', 'on', 'recall', 'and', 'precision', 'of', 'root', 'nodes', ',', 'as', 'a', 'reflection', 'of', 'global', 'syntactic', 'structure', ',', 'and', 'on', 'attachment', 'score', 'as', 'a', 'function', 'of', 'arc', 'length', '.', 'if', 'we', 'start', 'by', 'considering', 'languages', 'with', 'a', 'labeled', 'attachment', 'score', 'of', '85', '%', 'or', 'higher', ',', 'they', 'are', 'characterized', 'by', 'high', 'precision', 'and', 'recall', 'for', 'root', 'nodes', ',', 'typically', '95', '/', '90', ',', 'and', 'by', 'a', 'grace', '##ful', 'degradation', 'of', 'attachment', 'score', 'as', 'arcs', 'grow', 'longer', ',', 'typically', '95', '##90', '##85', ',', 'for', 'arcs', 'of', 'length', '1', ',', '2', 'and', '36', '.', 'typical', 'examples', 'are', 'bul', '##gar', '##ian', '<', 'target', '_', 'citation', '/', '>', ',', 'chinese', '<', 'citation', '/', '>', ',', 'danish', '<', 'citation', '/', '>', ',', 'and', 'swedish', '<', 'citation', '/', '>', '.', 'typical', 'examples', 'are', 'bul', '##gar', '##ian', '<', 'citation', '/', '>', ',', 'chinese', '<', 'citation', '/', '>', ',', 'danish', '<', 'citation', '/', '>', ',', 'and', 'swedish', '<', 'citation', '/', '>', '.', 'if', 'we', 'start', 'by', 'considering', 'languages', 'with', 'a', 'labeled', 'attachment', 'score', 'of', '85', '%', 'or', 'higher', ',', 'they', 'are', 'characterized', 'by', 'high', 'precision', 'and', 'recall', 'for', 'root', 'nodes', ',', 'typically', '95', '/', '90', ',', 'and', 'by', 'a', 'grace', '##ful', 'degradation', 'of', 'attachment', 'score', 'as', 'arcs', 'grow', 'longer', ',', 'typically', '95', '##90', '##85', ',', 'for', 'arcs', 'of', 'length', '1', ',', '2', 'and', '36', '.', 'before', 'we', 'turn', 'to', 'swedish', 'and', 'turkish', ',', 'focusing', 'on', 'recall', 'and', 'precision', 'of', 'root', 'nodes', ',', 'as', 'a', 'reflection', 'of', 'global', 'syntactic', 'structure', ',', 'and', 'on', 'attachment', 'score', 'as', 'a', 'function', 'of', 'arc', 'length', '.', '[SEP]', '[PAD]', '[PAD]', '[PAD]', '[PAD]', '[PAD]', '[PAD]', '[PAD]', '[PAD]', '[PAD]', '[PAD]', '[PAD]', '[PAD]', '[PAD]', '[PAD]', '[PAD]', '[PAD]', '[PAD]', '[PAD]', '[PAD]', '[PAD]', '[PAD]', '[PAD]', '[PAD]', '[PAD]', '[PAD]', '[PAD]', '[PAD]', '[PAD]', '[PAD]', '[PAD]', '[PAD]', '[PAD]', '[PAD]', '[PAD]', '[PAD]', '[PAD]', '[PAD]', '[PAD]', '[PAD]', '[PAD]', '[PAD]', '[PAD]', '[PAD]', '[PAD]', '[PAD]', '[PAD]', '[PAD]', '[PAD]', '[PAD]', '[PAD]', '[PAD]', '[PAD]', '[PAD]', '[PAD]', '[PAD]', '[PAD]', '[PAD]', '[PAD]', '[PAD]', '[PAD]', '[PAD]', '[PAD]', '[PAD]', '[PAD]', '[PAD]', '[PAD]', '[PAD]', '[PAD]', '[PAD]', '[PAD]', '[PAD]', '[PAD]', '[PAD]', '[PAD]', '[PAD]', '[PAD]', '[PAD]', '[PAD]', '[PAD]', '[PAD]', '[PAD]', '[PAD]', '[PAD]', '[PAD]', '[PAD]', '[PAD]', '[PAD]', '[PAD]', '[PAD]', '[PAD]', '[PAD]', '[PAD]', '[PAD]', '[PAD]', '[PAD]', '[PAD]', '[PAD]', '[PAD]', '[PAD]', '[PAD]', '[PAD]', '[PAD]', '[PAD]', '[PAD]', '[PAD]', '[PAD]', '[PAD]', '[PAD]', '[PAD]', '[PAD]', '[PAD]', '[PAD]', '[PAD]', '[PAD]', '[PAD]', '[PAD]', '[PAD]', '[PAD]', '[PAD]', '[PAD]', '[PAD]', '[PAD]', '[PAD]', '[PAD]', '[PAD]', '[PAD]', '[PAD]', '[PAD]', '[PAD]', '[PAD]', '[PAD]', '[PAD]', '[PAD]', '[PAD]', '[PAD]', '[PAD]', '[PAD]', '[PAD]', '[PAD]', '[PAD]', '[PAD]', '[PAD]', '[PAD]', '[PAD]', '[PAD]', '[PAD]', '[PAD]', '[PAD]', '[PAD]', '[PAD]', '[PAD]', '[PAD]', '[PAD]', '[PAD]', '[PAD]', '[PAD]', '[PAD]', '[PAD]', '[PAD]', '[PAD]', '[PAD]', '[PAD]', '[PAD]', '[PAD]', '[PAD]', '[PAD]', '[PAD]', '[PAD]', '[PAD]', '[PAD]', '[PAD]', '[PAD]', '[PAD]', '[PAD]', '[PAD]', '[PAD]', '[PAD]', '[PAD]', '[PAD]', '[PAD]', '[PAD]', '[PAD]', '[PAD]', '[PAD]', '[PAD]', '[PAD]', '[PAD]', '[PAD]', '[PAD]', '[PAD]', '[PAD]', '[PAD]', '[PAD]', '[PAD]', '[PAD]', '[PAD]', '[PAD]', '[PAD]', '[PAD]', '[PAD]', '[PAD]', '[PAD]', '[PAD]', '[PAD]', '[PAD]', '[PAD]', '[PAD]', '[PAD]', '[PAD]', '[PAD]', '[PAD]', '[PAD]', '[PAD]', '[PAD]', '[PAD]', '[PAD]', '[PAD]', '[PAD]', '[PAD]', '[PAD]', '[PAD]', '[PAD]', '[PAD]', '[PAD]', '[PAD]', '[PAD]', '[PAD]', '[PAD]', '[PAD]', '[PAD]', '[PAD]', '[PAD]', '[PAD]', '[PAD]', '[PAD]', '[PAD]', '[PAD]', '[PAD]', '[PAD]', '[PAD]', '[PAD]', '[PAD]', '[PAD]', '[PAD]', '[PAD]', '[PAD]', '[PAD]', '[PAD]', '[PAD]', '[PAD]']\n",
      "Num pred targets (cls: [CLS], sep: [SEP], pad: [PAD]): 260\n",
      "Special tokens in input: []\n",
      "Labels [-100, 0, 0, 0, 0, 0, 0, 0, 0, 0, 0, 0, 0, 0, 0, 0, 0, 0, 0, 0, 0, 0, 0, 0, 0, 0, 0, 0, 0, 0, 0, 0, 0, 0, 0, 0, 0, 0, 0, 0, 0, 0, 0, 0, 0, 0, 3, 0, 0, 0, 0, 0, 0, 0, 0, 0, 0, 0, 0, 0, 0, 0, 0, 0, 0, 0, 0, 0, 0, 0, 0, 0, 0, 0, 0, 0, 0, 0, 0, 0, 0, 0, 0, 0, 0, 0, 0, 0, 0, 0, 0, 0, 0, 0, 0, 0, 0, 0, 0, 0, 3, 2, 3, 1, 1, 1, 1, 1, 1, 1, 1, 1, 3, 3, 3, 3, 3, 3, 3, 3, 3, 3, 3, 3, 3, 3, 3, 3, 3, 3, 3, 3, 0, 0, 0, 0, 0, 0, 0, 0, 0, 0, 0, 0, 0, 0, 0, 0, 0, 0, 0, 0, 0, 0, 0, 0, 0, 0, 0, 0, 0, 0, 0, 0, 0, 0, 0, 0, 0, 0, 0, 3, 0, 0, 0, 0, 0, 0, 0, 0, 0, 0, 0, 0, 0, 0, 0, 0, 0, 0, 0, 0, 0, 0, 0, 0, 0, 0, 0, 0, 0, 0, 0, 0, 0, 0, 3, 0, 0, 0, 0, 0, 0, 0, 0, 0, 0, 0, 0, 0, 0, 0, 0, 0, 0, 0, 0, 0, 0, 0, 0, 0, 0, 0, 0, 0, 0, 0, 0, 0, 0, 0, 0, 0, 0, 0, 0, 0, 0, 0, 0, 0, 0, 0, 0, 0, 0, 0, 0, 0, 0, -100, -100, -100, -100, -100, -100, -100, -100, -100, -100, -100, -100, -100, -100, -100, -100, -100, -100, -100, -100, -100, -100, -100, -100, -100, -100, -100, -100, -100, -100, -100, -100, -100, -100, -100, -100, -100, -100, -100, -100, -100, -100, -100, -100, -100, -100, -100, -100, -100, -100, -100, -100, -100, -100, -100, -100, -100, -100, -100, -100, -100, -100, -100, -100, -100, -100, -100, -100, -100, -100, -100, -100, -100, -100, -100, -100, -100, -100, -100, -100, -100, -100, -100, -100, -100, -100, -100, -100, -100, -100, -100, -100, -100, -100, -100, -100, -100, -100, -100, -100, -100, -100, -100, -100, -100, -100, -100, -100, -100, -100, -100, -100, -100, -100, -100, -100, -100, -100, -100, -100, -100, -100, -100, -100, -100, -100, -100, -100, -100, -100, -100, -100, -100, -100, -100, -100, -100, -100, -100, -100, -100, -100, -100, -100, -100, -100, -100, -100, -100, -100, -100, -100, -100, -100, -100, -100, -100, -100, -100, -100, -100, -100, -100, -100, -100, -100, -100, -100, -100, -100, -100, -100, -100, -100, -100, -100, -100, -100, -100, -100, -100, -100, -100, -100, -100, -100, -100, -100, -100, -100, -100, -100, -100, -100, -100, -100, -100, -100, -100, -100, -100, -100, -100, -100, -100, -100, -100, -100, -100, -100, -100, -100, -100, -100, -100, -100, -100, -100, -100, -100, -100, -100, -100, -100, -100, -100, -100, -100, -100, -100, -100, -100, -100, -100, -100, -100, -100, -100, -100, -100, -100, -100, -100, -100, -100, -100, -100, -100, -100, -100, -100]\n",
      "Labels [1.0, 0.0, 0.0, 0.0, 0.0, 0.0]\n"
     ]
    }
   ],
   "source": [
    "# log model setup\n",
    "print(f'Logging run_setup')\n",
    "def is_json_serializable(value):\n",
    "    try:\n",
    "        json.dumps(value)\n",
    "        return True\n",
    "    except (TypeError, OverflowError):\n",
    "        return False\n",
    "\n",
    "args_dict = vars(args)\n",
    "filtered_args = {k: v for k, v in args_dict.items() if is_json_serializable(v)}\n",
    "with open(os.path.join(args.output_dir, f'run_setup.json'), 'w') as f_out:\n",
    "    json.dump(filtered_args, f_out, indent=4)\n",
    "\n",
    "# log imput sample\n",
    "print(f'Logging input sample')\n",
    "input_sample = [tokenizer.convert_ids_to_tokens(ids=train_ds[i]['input_ids']) for i in range(3)]\n",
    "\n",
    "with open(os.path.join(args.output_dir, f'input_sample.json'), 'w') as f_out:\n",
    "    json.dump(input_sample, f_out, indent=4)\n",
    "    \n",
    "# print sample text\n",
    "first_example = train_ds[0]\n",
    "sample_text = tokenizer.convert_ids_to_tokens(ids=first_example['input_ids'])\n",
    "print(f'First example input text: {sample_text}')\n",
    "#print number of predicting targets\n",
    "num_pred_targets = len([token for token in first_example['input_ids'] if token not in [tokenizer.cls_token_id, tokenizer.sep_token_id, tokenizer.pad_token_id]])\n",
    "print(f'Num pred targets (cls: {tokenizer.cls_token}, sep: {tokenizer.sep_token}, pad: {tokenizer.pad_token}): {num_pred_targets}')\n",
    "#print special token in example\n",
    "special_token_ids = [token for token in first_example['input_ids'] if token in tokenizer.additional_special_tokens_ids]\n",
    "print(f'Special tokens in input: {tokenizer.convert_ids_to_tokens(ids=special_token_ids)}')\n",
    "#print labels in example\n",
    "labels = first_example['token_labels'].tolist()\n",
    "print(f'Labels {labels}')\n",
    "labels = first_example['intent_labels'].tolist()\n",
    "print(f'Labels {labels}')"
   ]
  },
  {
   "cell_type": "code",
   "execution_count": 8,
   "metadata": {},
   "outputs": [
    {
     "name": "stdout",
     "output_type": "stream",
     "text": [
      "configuring optimizer...\n",
      "\n",
      "starting training...\n"
     ]
    },
    {
     "name": "stdout",
     "output_type": "stream",
     "text": [
      "{'epoch': 1, 'loss': 2.181, 'macro_f1': 0.2, 'micro_f1': 0.29, 'precision': [0.538, 0.154, 0.436, 0.0, 0.5, 0.061], 'recall': [0.171, 0.4, 0.654, 0.0, 0.048, 0.667], 'f1': [0.259, 0.222, 0.523, 0.0, 0.087, 0.111]}\n",
      "{'epoch': 2, 'loss': 2.172, 'macro_f1': 0.31, 'micro_f1': 0.44, 'precision': [0.511, 0.333, 0.538, 0.0, 0.343, 0.25], 'recall': [0.561, 0.2, 0.269, 0.0, 0.571, 0.333], 'f1': [0.535, 0.25, 0.359, 0.0, 0.429, 0.286]}\n",
      "{'epoch': 3, 'loss': 2.042, 'macro_f1': 0.287, 'micro_f1': 0.41, 'precision': [0.558, 0.0, 0.833, 0.0, 0.333, 0.333], 'recall': [0.585, 0.0, 0.192, 0.0, 0.476, 0.667], 'f1': [0.571, 0.0, 0.312, 0.0, 0.392, 0.444]}\n",
      "{'current_epoch': 4, 'current_step': 100, 'avg_loss': 0.70298, 'max_loss': 1.3777, 'min_loss': 0.34143}\n",
      "{'epoch': 4, 'loss': 2.204, 'macro_f1': 0.335, 'micro_f1': 0.53, 'precision': [0.667, 0.0, 0.8, 0.0, 0.371, 0.2], 'recall': [0.634, 0.0, 0.462, 0.0, 0.619, 0.667], 'f1': [0.65, 0.0, 0.585, 0.0, 0.464, 0.308]}\n",
      "{'epoch': 5, 'loss': 2.432, 'macro_f1': 0.355, 'micro_f1': 0.52, 'precision': [0.622, 0.0, 0.64, 0.0, 0.324, 1.0], 'recall': [0.561, 0.0, 0.615, 0.0, 0.571, 0.333], 'f1': [0.59, 0.0, 0.627, 0.0, 0.414, 0.5]}\n",
      "{'epoch': 6, 'loss': 2.505, 'macro_f1': 0.373, 'micro_f1': 0.58, 'precision': [0.604, 0.0, 0.739, 0.0, 0.348, 1.0], 'recall': [0.78, 0.0, 0.654, 0.0, 0.381, 0.333], 'f1': [0.681, 0.0, 0.694, 0.0, 0.364, 0.5]}\n",
      "{'epoch': 7, 'loss': 3.166, 'macro_f1': 0.29, 'micro_f1': 0.57, 'precision': [0.589, 0.0, 0.842, 0.0, 0.32, 0.0], 'recall': [0.805, 0.0, 0.615, 0.0, 0.381, 0.0], 'f1': [0.68, 0.0, 0.711, 0.0, 0.348, 0.0]}\n",
      "{'current_epoch': 8, 'current_step': 200, 'avg_loss': 0.04609, 'max_loss': 0.16331, 'min_loss': 0.01391}\n",
      "{'epoch': 8, 'loss': 3.607, 'macro_f1': 0.292, 'micro_f1': 0.58, 'precision': [0.556, 0.0, 0.889, 0.0, 0.368, 0.0], 'recall': [0.854, 0.0, 0.615, 0.0, 0.333, 0.0], 'f1': [0.673, 0.0, 0.727, 0.0, 0.35, 0.0]}\n",
      "{'epoch': 9, 'loss': 3.783, 'macro_f1': 0.288, 'micro_f1': 0.57, 'precision': [0.548, 0.0, 0.889, 0.0, 0.35, 0.0], 'recall': [0.829, 0.0, 0.615, 0.0, 0.333, 0.0], 'f1': [0.66, 0.0, 0.727, 0.0, 0.341, 0.0]}\n",
      "{'epoch': 10, 'loss': 3.914, 'macro_f1': 0.295, 'micro_f1': 0.58, 'precision': [0.567, 0.0, 0.889, 0.0, 0.364, 0.0], 'recall': [0.829, 0.0, 0.615, 0.0, 0.381, 0.0], 'f1': [0.673, 0.0, 0.727, 0.0, 0.372, 0.0]}\n",
      "{'epoch': 11, 'loss': 4.101, 'macro_f1': 0.288, 'micro_f1': 0.57, 'precision': [0.548, 0.0, 0.889, 0.0, 0.35, 0.0], 'recall': [0.829, 0.0, 0.615, 0.0, 0.333, 0.0], 'f1': [0.66, 0.0, 0.727, 0.0, 0.341, 0.0]}\n",
      "Logging validation scores for best epoch\n",
      "Logging best output samples\n"
     ]
    }
   ],
   "source": [
    "from finecite.model import trainer\n",
    "from importlib import reload\n",
    "reload(trainer)\n",
    "\n",
    "# start training\n",
    "trainer = trainer.CustomTrainer(\n",
    "    args=args,\n",
    "    model=ext_model,\n",
    "    tokenizer=tokenizer,\n",
    "    train_dataloader=train_dataloader,\n",
    "    test_dataloader=val_dataloader,\n",
    ")\n",
    "trainer.train()\n"
   ]
  }
 ],
 "metadata": {
  "kernelspec": {
   "display_name": "dacslab_lasse",
   "language": "python",
   "name": "python3"
  },
  "language_info": {
   "codemirror_mode": {
    "name": "ipython",
    "version": 3
   },
   "file_extension": ".py",
   "mimetype": "text/x-python",
   "name": "python",
   "nbconvert_exporter": "python",
   "pygments_lexer": "ipython3",
   "version": "3.11.11"
  }
 },
 "nbformat": 4,
 "nbformat_minor": 2
}
