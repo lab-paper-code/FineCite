{
 "cells": [
  {
   "cell_type": "code",
   "execution_count": 15,
   "metadata": {},
   "outputs": [
    {
     "data": {
      "text/plain": [
       "10"
      ]
     },
     "execution_count": 15,
     "metadata": {},
     "output_type": "execute_result"
    }
   ],
   "source": [
    "from typing import List, Optional, Dict\n",
    "import os\n",
    "import random\n",
    "import json\n",
    "from transformers import AutoTokenizer\n",
    "from tqdm import tqdm\n",
    "from collections import Counter\n",
    "\n",
    "CITE_START = '[CITE]'\n",
    "CITE_END = '[/CITE]'\n",
    "INTENT_TOKENS = ['@BACK@', '@MOT@', '@FUT@', '@SIM@', '@DIF@', '@USE@', '@EXT@', '@UNSURE@']\n",
    "SPECIAL_TOKENS = [CITE_START, CITE_END] + INTENT_TOKENS\n",
    "IGNORE_SENTS = {'----------------------------------', '****'}\n",
    "\n",
    "# Define the argument values as Python variables\n",
    "input_directory = \"../../data/multicite\"\n",
    "file_name = 'full_data.json'\n",
    "output_directory = \"../data/seq_tagger\"\n",
    "model_name =  \"allenai/scibert_scivocab_uncased\"\n",
    "window = 4  # or some integer for a maximum window size\n",
    "rand_state = 99\n",
    "train_prob = 0.7  # Specify the probability if needed\n",
    "dev_prob = 0.1    # Specify the probability if needed\n",
    "test_prob = 0.2   # Specify the probability if needed\n",
    "\n",
    "# stuff need from model\n",
    "tokenizer = AutoTokenizer.from_pretrained(model_name, add_prefix_space=False, use_fast=True)\n",
    "tokenizer.add_special_tokens({'additional_special_tokens': SPECIAL_TOKENS})\n"
   ]
  },
  {
   "cell_type": "code",
   "execution_count": 16,
   "metadata": {},
   "outputs": [],
   "source": [
    "#helper\n",
    "\n",
    "# replace html tags in the sentence\n",
    "def replace_html(sentence: str, new_cite_start: str, new_cite_end: str) -> str:\n",
    "    cite_start = '<span style=\"background: yellow; display: inline-block\">'\n",
    "    cite_end = '</span>'\n",
    "    return sentence.replace(cite_start, new_cite_start).replace(cite_end, new_cite_end)\n",
    "\n",
    "# Tokenize the input sentence using the provided tokenizer and return length\n",
    "def compute_num_tokens(sentence: str, tokenizer):\n",
    "    encodings_from_sent = tokenizer(\n",
    "        sentence,\n",
    "        is_split_into_words=False,\n",
    "        add_special_tokens=False\n",
    "    )\n",
    "    return len(encodings_from_sent['input_ids'])\n",
    "\n",
    "# describes  where the citation is in the context window\n",
    "def _describe_window(window_sent_pos: List[int], window_num_tokens: int,\n",
    "                     cite_sent_pos: List[int],\n",
    "                     gold_context_sent_pos: List[int], gold_context_num_tokens: int):\n",
    "\n",
    "    # Determine the positions of citation sentences within the window\n",
    "    where_are_cite_in_window = [window_sent_pos.index(i) for i in cite_sent_pos]\n",
    "    print(f'Token Window:{window_num_tokens}\\tToken Gold:{gold_context_num_tokens}\\tSent Window: {len(window_sent_pos)}\\tSent Gold: {len(gold_context_sent_pos)}\\tCiteInWindow: {where_are_cite_in_window}')"
   ]
  },
  {
   "cell_type": "code",
   "execution_count": 18,
   "metadata": {},
   "outputs": [],
   "source": [
    "\n",
    "def split_examples(examples: list, train_prob: float, dev_prob: float, test_prob: float):\n",
    "    \"\"\"\n",
    "    output looks like:\n",
    "    {\n",
    "        0: {'train': [...], 'dev': [...], 'test': [...]},\n",
    "        1: {'train': [...], 'dev': [...], 'test': [...]},\n",
    "        ...\n",
    "        k: {'train': [...], 'dev': [...], 'test': [...]},\n",
    "    }\n",
    "    \"\"\"\n",
    "    assert train_prob + dev_prob + test_prob == 1.0\n",
    "    num_folds = int(1.0 / test_prob)\n",
    "    assert 1.0 / test_prob == num_folds  # check that we can evenly divide into folds\n",
    "\n",
    "    paper_ids = list({example['instance_id'].split('_')[1] for example in examples})\n",
    "    random.shuffle(paper_ids)\n",
    "\n",
    "    num_test = int(len(paper_ids) / num_folds)\n",
    "    num_train = int((len(paper_ids) - num_test) * train_prob / (train_prob + dev_prob))\n",
    "    num_dev = len(paper_ids) - num_test - num_train\n",
    "    assert num_train + num_dev + num_test == len(paper_ids)\n",
    "\n",
    "    # precompute the CV paper ID assignments\n",
    "    fold_to_paper_ids = {}\n",
    "    for fold in range(num_folds):\n",
    "        # Determine the range of paper IDs for the test set in the current fold\n",
    "        start_test = fold * num_test\n",
    "        end_test = start_test + num_test\n",
    "        test = paper_ids[start_test:end_test]\n",
    "\n",
    "        # Determine the remaining paper IDs for the training and development sets\n",
    "        remaining_paper_ids = [paper_id for paper_id in paper_ids if paper_id not in test]\n",
    "        random.shuffle(remaining_paper_ids)\n",
    "        train = remaining_paper_ids[:num_train]\n",
    "        dev = remaining_paper_ids[num_train:]\n",
    "        assert len(train) + len(dev) + len(test) == len(paper_ids)\n",
    "        fold_to_paper_ids[fold] = (train, dev, test)\n",
    "\n",
    "\n",
    "    # split examples s.t. all examples from same paper go to same split\n",
    "    fold_to_examples = {}\n",
    "    for fold, (train, dev, test) in fold_to_paper_ids.items():\n",
    "        fold_to_examples[fold] = {\n",
    "            'train': [],\n",
    "            'dev': [],\n",
    "            'test': []\n",
    "        }\n",
    "        for example in examples:\n",
    "            paper_id = example['instance_id'].split('_')[1]\n",
    "            if paper_id in train:\n",
    "                fold_to_examples[fold]['train'].append(example)\n",
    "            elif paper_id in dev:\n",
    "                fold_to_examples[fold]['dev'].append(example)\n",
    "            else:\n",
    "                fold_to_examples[fold]['test'].append(example)\n",
    "    return fold_to_examples\n",
    "\n",
    "\n",
    "def build_window(gold_context_sent_pos: List[int],                                                  # annotations\n",
    "                 sent_pos_to_num_tokens: List[int],                                                 # resources\n",
    "                 max_num_sents: int, paper_num_sents: int, max_model_num_tokens: int                # constraints\n",
    "                 ) -> Optional[List[int]]:\n",
    "\n",
    "    # let's always include the full gold context, at minimum (unless it truncates due to window, in which case we skip)\n",
    "    gold_context_num_tokens = sum([sent_pos_to_num_tokens[gold_sent_pos] for gold_sent_pos in gold_context_sent_pos])\n",
    "\n",
    "    # validate our constraints before getting the actual sentence text\n",
    "    if len(gold_context_sent_pos) > max_num_sents:  # cant even contain the gold context\n",
    "        print(f'Skipping... Sent Gold: {len(gold_context_sent_pos)}')\n",
    "        return None\n",
    "    elif gold_context_num_tokens > max_model_num_tokens:  # too long for even this longformer\n",
    "        print(f'Skipping... Token Gold: {gold_context_num_tokens}')\n",
    "        return None\n",
    "    else:\n",
    "        \"\"\"Good to go :)\"\"\"\n",
    "\n",
    "    # now let's randomly append sentences to front/back\n",
    "    window_sent_pos = [sent_pos for sent_pos in gold_context_sent_pos]\n",
    "    window_num_tokens = gold_context_num_tokens\n",
    "    while len(window_sent_pos) <= max_num_sents and window_num_tokens <= max_model_num_tokens:\n",
    "        before_sent_id = min(window_sent_pos) - 1\n",
    "        after_sent_id = max(window_sent_pos) + 1\n",
    "\n",
    "        # if only one valid option, just pick that one\n",
    "        if before_sent_id < 0 and after_sent_id < paper_num_sents:\n",
    "            new_sent_id = after_sent_id\n",
    "        elif before_sent_id >= 0 and after_sent_id >= paper_num_sents:\n",
    "            new_sent_id = before_sent_id\n",
    "        # if no valid options, just get out of the whole thing\n",
    "        elif before_sent_id < 0 and after_sent_id >= paper_num_sents:\n",
    "            break\n",
    "        # if both valid options, random\n",
    "        else:\n",
    "            choice = random.randint(0, 1)\n",
    "            if choice == 0:\n",
    "                new_sent_id = after_sent_id\n",
    "            else:\n",
    "                new_sent_id = before_sent_id\n",
    "\n",
    "        # token length check\n",
    "        new_sent_num_tokens = sent_pos_to_num_tokens[new_sent_id]\n",
    "        if window_num_tokens + new_sent_num_tokens <= max_model_num_tokens:\n",
    "\n",
    "            # now add to window\n",
    "            window_sent_pos.append(new_sent_id)\n",
    "            window_num_tokens += sent_pos_to_num_tokens[new_sent_id]\n",
    "\n",
    "        else:\n",
    "            # ran out of space so end adding phase\n",
    "            break\n",
    "\n",
    "    window_sent_pos = sorted(window_sent_pos)\n",
    "    return window_sent_pos\n",
    "\n",
    "def build_all_examples(raw_data_dict: Dict) -> List[Dict]:\n",
    "    \n",
    "    active_logger = False\n",
    "    n = 0\n",
    "    all_examples = []\n",
    "    for paper_id, data in tqdm(raw_data_dict.items()):\n",
    "        paper = data['x']                          # paper\n",
    "        intent_to_annotations = data['y']          # intent & context annotations\n",
    "\n",
    "        # 0) clean out IGNORED SENTS\n",
    "        clean_paper = [sent_dict for sent_dict in paper if sent_dict['text'] not in IGNORE_SENTS]\n",
    "\n",
    "        # 1) build an easy lookup for sentences from its ID (str) to its list position (int) and the oposite around\n",
    "        sent_id_to_list_pos: Dict[str, int] = {sent_dict['sent_id']: i for i, sent_dict in enumerate(clean_paper)}\n",
    "        sent_pos_to_sent_id: Dict[int, str] = {sent_pos: sent_id for sent_id, sent_pos in sent_id_to_list_pos.items()}\n",
    "\n",
    "        # 2) clean html and get tokens length per sentence\n",
    "        sent_pos_to_clean_text = [replace_html(sent_dict['text'], new_cite_start=CITE_START, new_cite_end=CITE_END) for sent_dict in clean_paper]\n",
    "        sent_pos_to_num_tokens: List[int] = [compute_num_tokens(clean_sent, tokenizer) for clean_sent in sent_pos_to_clean_text]\n",
    "\n",
    "        # 3) create a training example out of each gold context (i.e. each cite mention)\n",
    "        #    note, this code is a bit annoying because we want to convert all sent_ids to positions first\n",
    "        for intent, annotations in intent_to_annotations.items():\n",
    "            for idx_gold_context, gold_context_sent_ids in enumerate(annotations['gold_contexts']):\n",
    "\n",
    "                # 3a) build valid window\n",
    "                gold_context_sent_pos = [sent_id_to_list_pos[sent_id] for sent_id in gold_context_sent_ids if sent_id in sent_id_to_list_pos]   # ignores if annotated an ignored sent\n",
    "                window_sent_pos: Optional[List[int]] = build_window(gold_context_sent_pos=gold_context_sent_pos,\n",
    "                                                                    sent_pos_to_num_tokens=sent_pos_to_num_tokens,\n",
    "                                                                    max_num_sents=int(window),\n",
    "                                                                    paper_num_sents=len(clean_paper),\n",
    "                                                                    max_model_num_tokens=500)   # conservatively stay within 512\n",
    "                if window_sent_pos is None:\n",
    "                    continue\n",
    "\n",
    "                # verify there is at least one <CITE>\n",
    "                cite_sent_pos = [sent_id_to_list_pos[cite_sent_id] for cite_sent_id in annotations['cite_sentences'] if cite_sent_id in gold_context_sent_ids]\n",
    "                if not cite_sent_pos:\n",
    "                    continue\n",
    "                if active_logger:\n",
    "                    _describe_window(window_sent_pos=window_sent_pos,\n",
    "                                 window_num_tokens=sum([sent_pos_to_num_tokens[pos] for pos in window_sent_pos]),\n",
    "                                 cite_sent_pos=cite_sent_pos,\n",
    "                                 gold_context_sent_pos=gold_context_sent_pos,\n",
    "                                 gold_context_num_tokens=sum([sent_pos_to_num_tokens[pos] for pos in gold_context_sent_pos]))\n",
    "\n",
    "                # 3b) get the text and labels\n",
    "                example = {\n",
    "                    'id': n,\n",
    "                    'instance_id': f'{paper_id}__{intent}__{idx_gold_context}',\n",
    "                    'intent': intent,\n",
    "                    'sentences': [],\n",
    "                    'labels': [],\n",
    "                    'sent_ids': []\n",
    "                }\n",
    "                for w_pos in window_sent_pos:\n",
    "                    example['sentences'].append(sent_pos_to_clean_text[w_pos])\n",
    "                    example['labels'].append('context' if w_pos in gold_context_sent_pos else 'not-context')\n",
    "                    example['sent_ids'].append(sent_pos_to_sent_id[w_pos])\n",
    "\n",
    "                all_examples.append(example)\n",
    "                n += 1\n",
    "\n",
    "    return all_examples"
   ]
  },
  {
   "cell_type": "code",
   "execution_count": 19,
   "metadata": {},
   "outputs": [
    {
     "name": "stderr",
     "output_type": "stream",
     "text": [
      "  2%|▏         | 26/1193 [00:00<00:17, 65.66it/s]"
     ]
    },
    {
     "name": "stdout",
     "output_type": "stream",
     "text": [
      "Skipping... Sent Gold: 5\n"
     ]
    },
    {
     "name": "stderr",
     "output_type": "stream",
     "text": [
      "  3%|▎         | 33/1193 [00:00<00:26, 44.38it/s]"
     ]
    },
    {
     "name": "stdout",
     "output_type": "stream",
     "text": [
      "Skipping... Sent Gold: 5\n",
      "Skipping... Sent Gold: 12\n"
     ]
    },
    {
     "name": "stderr",
     "output_type": "stream",
     "text": [
      "  5%|▍         | 55/1193 [00:01<00:46, 24.42it/s]"
     ]
    },
    {
     "name": "stdout",
     "output_type": "stream",
     "text": [
      "Skipping... Sent Gold: 5\n"
     ]
    },
    {
     "name": "stderr",
     "output_type": "stream",
     "text": [
      " 10%|█         | 123/1193 [00:03<00:25, 41.79it/s]"
     ]
    },
    {
     "name": "stdout",
     "output_type": "stream",
     "text": [
      "Skipping... Sent Gold: 6\n"
     ]
    },
    {
     "name": "stderr",
     "output_type": "stream",
     "text": [
      " 11%|█         | 128/1193 [00:03<00:24, 43.79it/s]"
     ]
    },
    {
     "name": "stdout",
     "output_type": "stream",
     "text": [
      "Skipping... Sent Gold: 7\n"
     ]
    },
    {
     "name": "stderr",
     "output_type": "stream",
     "text": [
      " 13%|█▎        | 152/1193 [00:04<00:22, 46.94it/s]"
     ]
    },
    {
     "name": "stdout",
     "output_type": "stream",
     "text": [
      "Skipping... Sent Gold: 5\n"
     ]
    },
    {
     "name": "stderr",
     "output_type": "stream",
     "text": [
      " 13%|█▎        | 158/1193 [00:04<00:21, 48.14it/s]"
     ]
    },
    {
     "name": "stdout",
     "output_type": "stream",
     "text": [
      "Skipping... Sent Gold: 9\n"
     ]
    },
    {
     "name": "stderr",
     "output_type": "stream",
     "text": [
      " 14%|█▎        | 163/1193 [00:04<00:21, 46.93it/s]"
     ]
    },
    {
     "name": "stdout",
     "output_type": "stream",
     "text": [
      "Skipping... Sent Gold: 5\n",
      "Skipping... Sent Gold: 5\n",
      "Skipping... Sent Gold: 7\n",
      "Skipping... Sent Gold: 5\n",
      "Skipping... Sent Gold: 6\n"
     ]
    },
    {
     "name": "stderr",
     "output_type": "stream",
     "text": [
      " 15%|█▌        | 184/1193 [00:05<00:29, 33.90it/s]"
     ]
    },
    {
     "name": "stdout",
     "output_type": "stream",
     "text": [
      "Skipping... Sent Gold: 6\n"
     ]
    },
    {
     "name": "stderr",
     "output_type": "stream",
     "text": [
      " 16%|█▋        | 196/1193 [00:05<00:24, 41.24it/s]"
     ]
    },
    {
     "name": "stdout",
     "output_type": "stream",
     "text": [
      "Skipping... Sent Gold: 9\n",
      "Skipping... Sent Gold: 9\n"
     ]
    },
    {
     "name": "stderr",
     "output_type": "stream",
     "text": [
      " 17%|█▋        | 201/1193 [00:05<00:26, 37.93it/s]"
     ]
    },
    {
     "name": "stdout",
     "output_type": "stream",
     "text": [
      "Skipping... Sent Gold: 6\n"
     ]
    },
    {
     "name": "stderr",
     "output_type": "stream",
     "text": [
      " 18%|█▊        | 218/1193 [00:06<00:28, 33.94it/s]"
     ]
    },
    {
     "name": "stdout",
     "output_type": "stream",
     "text": [
      "Skipping... Sent Gold: 5\n"
     ]
    },
    {
     "name": "stderr",
     "output_type": "stream",
     "text": [
      " 19%|█▊        | 222/1193 [00:06<00:27, 34.99it/s]"
     ]
    },
    {
     "name": "stdout",
     "output_type": "stream",
     "text": [
      "Skipping... Sent Gold: 5\n"
     ]
    },
    {
     "name": "stderr",
     "output_type": "stream",
     "text": [
      " 20%|██        | 239/1193 [00:06<00:25, 37.14it/s]"
     ]
    },
    {
     "name": "stdout",
     "output_type": "stream",
     "text": [
      "Skipping... Sent Gold: 5\n",
      "Skipping... Sent Gold: 5\n"
     ]
    },
    {
     "name": "stderr",
     "output_type": "stream",
     "text": [
      " 21%|██        | 247/1193 [00:07<00:27, 34.03it/s]"
     ]
    },
    {
     "name": "stdout",
     "output_type": "stream",
     "text": [
      "Skipping... Sent Gold: 5\n"
     ]
    },
    {
     "name": "stderr",
     "output_type": "stream",
     "text": [
      " 22%|██▏       | 259/1193 [00:07<00:28, 33.17it/s]"
     ]
    },
    {
     "name": "stdout",
     "output_type": "stream",
     "text": [
      "Skipping... Sent Gold: 7\n"
     ]
    },
    {
     "name": "stderr",
     "output_type": "stream",
     "text": [
      " 22%|██▏       | 263/1193 [00:07<00:29, 32.05it/s]"
     ]
    },
    {
     "name": "stdout",
     "output_type": "stream",
     "text": [
      "Skipping... Sent Gold: 5\n"
     ]
    },
    {
     "name": "stderr",
     "output_type": "stream",
     "text": [
      " 47%|████▋     | 558/1193 [00:19<00:22, 28.63it/s]"
     ]
    },
    {
     "name": "stdout",
     "output_type": "stream",
     "text": [
      "Skipping... Sent Gold: 6\n"
     ]
    },
    {
     "name": "stderr",
     "output_type": "stream",
     "text": [
      " 48%|████▊     | 570/1193 [00:19<00:28, 21.75it/s]"
     ]
    },
    {
     "name": "stdout",
     "output_type": "stream",
     "text": [
      "Skipping... Sent Gold: 5\n"
     ]
    },
    {
     "name": "stderr",
     "output_type": "stream",
     "text": [
      " 50%|█████     | 601/1193 [00:21<00:24, 23.69it/s]"
     ]
    },
    {
     "name": "stdout",
     "output_type": "stream",
     "text": [
      "Skipping... Sent Gold: 5\n",
      "Skipping... Sent Gold: 5\n",
      "Skipping... Sent Gold: 5\n"
     ]
    },
    {
     "name": "stderr",
     "output_type": "stream",
     "text": [
      " 51%|█████     | 610/1193 [00:21<00:24, 23.71it/s]"
     ]
    },
    {
     "name": "stdout",
     "output_type": "stream",
     "text": [
      "Skipping... Sent Gold: 7\n",
      "Skipping... Sent Gold: 7\n"
     ]
    },
    {
     "name": "stderr",
     "output_type": "stream",
     "text": [
      " 52%|█████▏    | 616/1193 [00:21<00:25, 22.27it/s]"
     ]
    },
    {
     "name": "stdout",
     "output_type": "stream",
     "text": [
      "Skipping... Sent Gold: 5\n"
     ]
    },
    {
     "name": "stderr",
     "output_type": "stream",
     "text": [
      " 52%|█████▏    | 619/1193 [00:21<00:24, 23.41it/s]"
     ]
    },
    {
     "name": "stdout",
     "output_type": "stream",
     "text": [
      "Skipping... Sent Gold: 6\n",
      "Skipping... Sent Gold: 5\n",
      "Skipping... Sent Gold: 5\n",
      "Skipping... Sent Gold: 8\n"
     ]
    },
    {
     "name": "stderr",
     "output_type": "stream",
     "text": [
      " 52%|█████▏    | 625/1193 [00:21<00:18, 31.29it/s]"
     ]
    },
    {
     "name": "stdout",
     "output_type": "stream",
     "text": [
      "Skipping... Sent Gold: 5\n"
     ]
    },
    {
     "name": "stderr",
     "output_type": "stream",
     "text": [
      " 53%|█████▎    | 632/1193 [00:22<00:14, 38.19it/s]"
     ]
    },
    {
     "name": "stdout",
     "output_type": "stream",
     "text": [
      "Skipping... Sent Gold: 14\n",
      "Skipping... Sent Gold: 5\n"
     ]
    },
    {
     "name": "stderr",
     "output_type": "stream",
     "text": [
      " 55%|█████▌    | 662/1193 [00:23<00:24, 21.83it/s]"
     ]
    },
    {
     "name": "stdout",
     "output_type": "stream",
     "text": [
      "Skipping... Sent Gold: 6\n"
     ]
    },
    {
     "name": "stderr",
     "output_type": "stream",
     "text": [
      " 62%|██████▏   | 734/1193 [00:26<00:17, 26.61it/s]"
     ]
    },
    {
     "name": "stdout",
     "output_type": "stream",
     "text": [
      "Skipping... Sent Gold: 7\n"
     ]
    },
    {
     "name": "stderr",
     "output_type": "stream",
     "text": [
      " 62%|██████▏   | 743/1193 [00:26<00:18, 24.70it/s]"
     ]
    },
    {
     "name": "stdout",
     "output_type": "stream",
     "text": [
      "Skipping... Sent Gold: 5\n",
      "Skipping... Sent Gold: 6\n"
     ]
    },
    {
     "name": "stderr",
     "output_type": "stream",
     "text": [
      " 63%|██████▎   | 746/1193 [00:26<00:19, 22.55it/s]"
     ]
    },
    {
     "name": "stdout",
     "output_type": "stream",
     "text": [
      "Skipping... Sent Gold: 6\n",
      "Skipping... Sent Gold: 6\n",
      "Skipping... Sent Gold: 5\n"
     ]
    },
    {
     "name": "stderr",
     "output_type": "stream",
     "text": [
      " 63%|██████▎   | 749/1193 [00:26<00:20, 22.19it/s]"
     ]
    },
    {
     "name": "stdout",
     "output_type": "stream",
     "text": [
      "Skipping... Sent Gold: 5\n",
      "Skipping... Sent Gold: 5\n",
      "Skipping... Sent Gold: 6\n",
      "Skipping... Sent Gold: 5\n",
      "Skipping... Sent Gold: 5\n"
     ]
    },
    {
     "name": "stderr",
     "output_type": "stream",
     "text": [
      " 64%|██████▍   | 768/1193 [00:27<00:13, 30.77it/s]"
     ]
    },
    {
     "name": "stdout",
     "output_type": "stream",
     "text": [
      "Skipping... Sent Gold: 5\n"
     ]
    },
    {
     "name": "stderr",
     "output_type": "stream",
     "text": [
      " 68%|██████▊   | 812/1193 [00:28<00:10, 34.77it/s]"
     ]
    },
    {
     "name": "stdout",
     "output_type": "stream",
     "text": [
      "Skipping... Sent Gold: 10\n"
     ]
    },
    {
     "name": "stderr",
     "output_type": "stream",
     "text": [
      " 75%|███████▍  | 891/1193 [00:31<00:09, 30.74it/s]"
     ]
    },
    {
     "name": "stdout",
     "output_type": "stream",
     "text": [
      "Skipping... Sent Gold: 8\n"
     ]
    },
    {
     "name": "stderr",
     "output_type": "stream",
     "text": [
      " 78%|███████▊  | 935/1193 [00:32<00:05, 49.40it/s]"
     ]
    },
    {
     "name": "stdout",
     "output_type": "stream",
     "text": [
      "Skipping... Sent Gold: 9\n"
     ]
    },
    {
     "name": "stderr",
     "output_type": "stream",
     "text": [
      " 80%|███████▉  | 953/1193 [00:32<00:03, 64.28it/s]"
     ]
    },
    {
     "name": "stdout",
     "output_type": "stream",
     "text": [
      "Skipping... Sent Gold: 5\n"
     ]
    },
    {
     "name": "stderr",
     "output_type": "stream",
     "text": [
      " 80%|████████  | 960/1193 [00:32<00:03, 60.25it/s]"
     ]
    },
    {
     "name": "stdout",
     "output_type": "stream",
     "text": [
      "Skipping... Sent Gold: 5\n",
      "Skipping... Sent Gold: 5\n"
     ]
    },
    {
     "name": "stderr",
     "output_type": "stream",
     "text": [
      " 82%|████████▏ | 974/1193 [00:33<00:05, 41.64it/s]"
     ]
    },
    {
     "name": "stdout",
     "output_type": "stream",
     "text": [
      "Skipping... Sent Gold: 7\n",
      "Skipping... Sent Gold: 7\n"
     ]
    },
    {
     "name": "stderr",
     "output_type": "stream",
     "text": [
      " 85%|████████▌ | 1016/1193 [00:36<00:08, 21.19it/s]"
     ]
    },
    {
     "name": "stdout",
     "output_type": "stream",
     "text": [
      "Skipping... Sent Gold: 7\n"
     ]
    },
    {
     "name": "stderr",
     "output_type": "stream",
     "text": [
      " 86%|████████▌ | 1022/1193 [00:36<00:07, 23.34it/s]"
     ]
    },
    {
     "name": "stdout",
     "output_type": "stream",
     "text": [
      "Skipping... Sent Gold: 5\n"
     ]
    },
    {
     "name": "stderr",
     "output_type": "stream",
     "text": [
      " 86%|████████▋ | 1029/1193 [00:36<00:06, 25.59it/s]"
     ]
    },
    {
     "name": "stdout",
     "output_type": "stream",
     "text": [
      "Skipping... Sent Gold: 5\n",
      "Skipping... Sent Gold: 5\n",
      "Skipping... Sent Gold: 5\n",
      "Skipping... Sent Gold: 5\n"
     ]
    },
    {
     "name": "stderr",
     "output_type": "stream",
     "text": [
      " 87%|████████▋ | 1032/1193 [00:36<00:06, 26.04it/s]"
     ]
    },
    {
     "name": "stdout",
     "output_type": "stream",
     "text": [
      "Skipping... Sent Gold: 6\n"
     ]
    },
    {
     "name": "stderr",
     "output_type": "stream",
     "text": [
      " 88%|████████▊ | 1046/1193 [00:37<00:05, 29.08it/s]"
     ]
    },
    {
     "name": "stdout",
     "output_type": "stream",
     "text": [
      "Skipping... Sent Gold: 5\n"
     ]
    },
    {
     "name": "stderr",
     "output_type": "stream",
     "text": [
      " 90%|████████▉ | 1071/1193 [00:38<00:04, 29.18it/s]"
     ]
    },
    {
     "name": "stdout",
     "output_type": "stream",
     "text": [
      "Skipping... Sent Gold: 12\n",
      "Skipping... Sent Gold: 5\n",
      "Skipping... Sent Gold: 12\n",
      "Skipping... Sent Gold: 5\n"
     ]
    },
    {
     "name": "stderr",
     "output_type": "stream",
     "text": [
      " 90%|█████████ | 1074/1193 [00:38<00:04, 27.90it/s]"
     ]
    },
    {
     "name": "stdout",
     "output_type": "stream",
     "text": [
      "Skipping... Sent Gold: 7\n",
      "Skipping... Sent Gold: 6\n",
      "Skipping... Sent Gold: 7\n",
      "Skipping... Sent Gold: 5\n",
      "Skipping... Sent Gold: 5\n",
      "Skipping... Sent Gold: 5\n",
      "Skipping... Sent Gold: 5\n",
      "Skipping... Sent Gold: 5\n"
     ]
    },
    {
     "name": "stderr",
     "output_type": "stream",
     "text": [
      " 90%|█████████ | 1077/1193 [00:38<00:04, 25.08it/s]"
     ]
    },
    {
     "name": "stdout",
     "output_type": "stream",
     "text": [
      "Skipping... Sent Gold: 6\n",
      "Skipping... Sent Gold: 7\n",
      "Skipping... Sent Gold: 7\n",
      "Skipping... Sent Gold: 5\n",
      "Skipping... Sent Gold: 7\n",
      "Skipping... Sent Gold: 5\n",
      "Skipping... Sent Gold: 7\n",
      "Skipping... Sent Gold: 7\n",
      "Skipping... Sent Gold: 7\n",
      "Skipping... Sent Gold: 5\n",
      "Skipping... Sent Gold: 7\n"
     ]
    },
    {
     "name": "stderr",
     "output_type": "stream",
     "text": [
      " 91%|█████████ | 1080/1193 [00:38<00:04, 23.18it/s]"
     ]
    },
    {
     "name": "stdout",
     "output_type": "stream",
     "text": [
      "Skipping... Sent Gold: 9\n"
     ]
    },
    {
     "name": "stderr",
     "output_type": "stream",
     "text": [
      " 91%|█████████ | 1083/1193 [00:38<00:04, 23.69it/s]"
     ]
    },
    {
     "name": "stdout",
     "output_type": "stream",
     "text": [
      "Skipping... Sent Gold: 8\n"
     ]
    },
    {
     "name": "stderr",
     "output_type": "stream",
     "text": [
      " 91%|█████████ | 1086/1193 [00:38<00:04, 22.69it/s]"
     ]
    },
    {
     "name": "stdout",
     "output_type": "stream",
     "text": [
      "Skipping... Sent Gold: 5\n",
      "Skipping... Sent Gold: 5\n",
      "Skipping... Sent Gold: 5\n",
      "Skipping... Sent Gold: 5\n",
      "Skipping... Sent Gold: 5\n",
      "Skipping... Sent Gold: 10\n"
     ]
    },
    {
     "name": "stderr",
     "output_type": "stream",
     "text": [
      " 91%|█████████▏| 1089/1193 [00:38<00:04, 22.35it/s]"
     ]
    },
    {
     "name": "stdout",
     "output_type": "stream",
     "text": [
      "Skipping... Sent Gold: 5\n",
      "Skipping... Sent Gold: 6\n",
      "Skipping... Sent Gold: 5\n",
      "Skipping... Sent Gold: 5\n",
      "Skipping... Sent Gold: 5\n"
     ]
    },
    {
     "name": "stderr",
     "output_type": "stream",
     "text": [
      " 92%|█████████▏| 1092/1193 [00:39<00:04, 23.95it/s]"
     ]
    },
    {
     "name": "stdout",
     "output_type": "stream",
     "text": [
      "Skipping... Sent Gold: 10\n",
      "Skipping... Sent Gold: 5\n"
     ]
    },
    {
     "name": "stderr",
     "output_type": "stream",
     "text": [
      " 92%|█████████▏| 1095/1193 [00:39<00:04, 23.48it/s]"
     ]
    },
    {
     "name": "stdout",
     "output_type": "stream",
     "text": [
      "Skipping... Sent Gold: 5\n",
      "Skipping... Sent Gold: 7\n",
      "Skipping... Sent Gold: 5\n",
      "Skipping... Sent Gold: 6\n",
      "Skipping... Sent Gold: 5\n",
      "Skipping... Sent Gold: 6\n",
      "Skipping... Sent Gold: 5\n",
      "Skipping... Sent Gold: 7\n",
      "Skipping... Sent Gold: 5\n",
      "Skipping... Sent Gold: 5\n",
      "Skipping... Sent Gold: 6\n",
      "Skipping... Sent Gold: 5\n",
      "Skipping... Sent Gold: 5\n"
     ]
    },
    {
     "name": "stderr",
     "output_type": "stream",
     "text": [
      " 92%|█████████▏| 1098/1193 [00:39<00:04, 22.51it/s]"
     ]
    },
    {
     "name": "stdout",
     "output_type": "stream",
     "text": [
      "Skipping... Sent Gold: 5\n",
      "Skipping... Sent Gold: 5\n",
      "Skipping... Sent Gold: 5\n",
      "Skipping... Sent Gold: 5\n",
      "Skipping... Sent Gold: 6\n",
      "Skipping... Sent Gold: 10\n",
      "Skipping... Sent Gold: 6\n",
      "Skipping... Sent Gold: 5\n",
      "Skipping... Sent Gold: 6\n",
      "Skipping... Sent Gold: 10\n",
      "Skipping... Sent Gold: 6\n",
      "Skipping... Sent Gold: 6\n"
     ]
    },
    {
     "name": "stderr",
     "output_type": "stream",
     "text": [
      " 92%|█████████▏| 1101/1193 [00:39<00:03, 23.47it/s]"
     ]
    },
    {
     "name": "stdout",
     "output_type": "stream",
     "text": [
      "Skipping... Sent Gold: 10\n",
      "Skipping... Sent Gold: 5\n",
      "Skipping... Sent Gold: 5\n",
      "Skipping... Sent Gold: 5\n",
      "Skipping... Sent Gold: 9\n",
      "Skipping... Sent Gold: 9\n",
      "Skipping... Sent Gold: 6\n",
      "Skipping... Sent Gold: 6\n"
     ]
    },
    {
     "name": "stderr",
     "output_type": "stream",
     "text": [
      " 93%|█████████▎| 1104/1193 [00:39<00:03, 24.00it/s]"
     ]
    },
    {
     "name": "stdout",
     "output_type": "stream",
     "text": [
      "Skipping... Sent Gold: 5\n",
      "Skipping... Sent Gold: 5\n",
      "Skipping... Sent Gold: 5\n",
      "Skipping... Sent Gold: 5\n",
      "Skipping... Sent Gold: 5\n",
      "Skipping... Sent Gold: 5\n",
      "Skipping... Sent Gold: 5\n",
      "Skipping... Sent Gold: 6\n"
     ]
    },
    {
     "name": "stderr",
     "output_type": "stream",
     "text": [
      " 93%|█████████▎| 1108/1193 [00:39<00:03, 26.50it/s]"
     ]
    },
    {
     "name": "stdout",
     "output_type": "stream",
     "text": [
      "Skipping... Sent Gold: 6\n",
      "Skipping... Sent Gold: 5\n",
      "Skipping... Sent Gold: 6\n",
      "Skipping... Sent Gold: 6\n",
      "Skipping... Sent Gold: 5\n",
      "Skipping... Sent Gold: 6\n",
      "Skipping... Sent Gold: 5\n",
      "Skipping... Sent Gold: 5\n"
     ]
    },
    {
     "name": "stderr",
     "output_type": "stream",
     "text": [
      " 93%|█████████▎| 1111/1193 [00:39<00:03, 26.34it/s]"
     ]
    },
    {
     "name": "stdout",
     "output_type": "stream",
     "text": [
      "Skipping... Sent Gold: 6\n"
     ]
    },
    {
     "name": "stderr",
     "output_type": "stream",
     "text": [
      " 96%|█████████▋| 1151/1193 [00:41<00:01, 27.10it/s]"
     ]
    },
    {
     "name": "stdout",
     "output_type": "stream",
     "text": [
      "Skipping... Sent Gold: 5\n"
     ]
    },
    {
     "name": "stderr",
     "output_type": "stream",
     "text": [
      " 98%|█████████▊| 1169/1193 [00:42<00:01, 19.40it/s]"
     ]
    },
    {
     "name": "stdout",
     "output_type": "stream",
     "text": [
      "Skipping... Sent Gold: 5\n",
      "Skipping... Sent Gold: 5\n"
     ]
    },
    {
     "name": "stderr",
     "output_type": "stream",
     "text": [
      " 98%|█████████▊| 1172/1193 [00:42<00:01, 19.61it/s]"
     ]
    },
    {
     "name": "stdout",
     "output_type": "stream",
     "text": [
      "Skipping... Sent Gold: 6\n"
     ]
    },
    {
     "name": "stderr",
     "output_type": "stream",
     "text": [
      "100%|█████████▉| 1190/1193 [00:43<00:00, 13.09it/s]"
     ]
    },
    {
     "name": "stdout",
     "output_type": "stream",
     "text": [
      "Skipping... Sent Gold: 5\n"
     ]
    },
    {
     "name": "stderr",
     "output_type": "stream",
     "text": [
      "100%|██████████| 1193/1193 [00:43<00:00, 27.13it/s]\n"
     ]
    }
   ],
   "source": [
    "# stuff for input\n",
    "with open(os.path.join(input_directory, file_name)) as f_in:\n",
    "    d = json.load(f_in)\n",
    "\n",
    "# build examples\n",
    "random.seed(rand_state)\n",
    "all_examples = build_all_examples(raw_data_dict=d)\n",
    "\n",
    "# stuff for output\n",
    "outdir = os.path.join(output_directory, f'{model_name}__{window}__{rand_state}__{train_prob}-{dev_prob}-{test_prob}'.replace('/', '-').replace('.', ''))\n",
    "if not os.path.exists(outdir):\n",
    "    os.makedirs(outdir, exist_ok=True)\n",
    "out_file = os.path.join(outdir, 'full.json')\n",
    "with open(out_file, 'w') as outfile:\n",
    "    json.dump({'data': all_examples}, outfile, indent=4)\n",
    "\n",
    "# now do the splitting & log it\n",
    "logfile = os.path.join(outdir, 'log.txt')\n",
    "with open(logfile, 'w') as f_log:\n",
    "\n",
    "    fold_to_splits = split_examples(examples=all_examples, train_prob=train_prob, dev_prob=dev_prob, test_prob=test_prob)\n",
    "    for fold, splits in fold_to_splits.items():\n",
    "        folddir = os.path.join(outdir, f'{fold}/')\n",
    "        os.makedirs(folddir, exist_ok=True)\n",
    "        trainfile = os.path.join(folddir, 'train.jsonl')\n",
    "        devfile = os.path.join(folddir, 'dev.jsonl')\n",
    "        testfile = os.path.join(folddir, 'test.jsonl')\n",
    "        train = splits['train']\n",
    "        dev = splits['dev']\n",
    "        test = splits['test']\n",
    "        with open(trainfile, 'w') as f_train:\n",
    "            for e in train:\n",
    "                json.dump(e, f_train)\n",
    "                f_train.write('\\n')\n",
    "        with open(devfile, 'w') as f_val:\n",
    "            for e in dev:\n",
    "                json.dump(e, f_val)\n",
    "                f_val.write('\\n')\n",
    "        with open(testfile, 'w') as f_test:\n",
    "            for e in test:\n",
    "                json.dump(e, f_test)\n",
    "                f_test.write('\\n')\n",
    "\n",
    "        f_log.write(f'Counting rare class in Fold {fold} \\n')\n",
    "        f_log.write('train ' + f\"{Counter([sum([1 if tag == 'context' else 0 for tag in e['labels']]) for e in train])} / {len(train)}\\n\")\n",
    "        f_log.write('dev ' + f\"{Counter([sum([1 if tag == 'context' else 0 for tag in e['labels']]) for e in dev])} / {len(dev)}\\n\")\n",
    "        f_log.write('test ' + f\"{Counter([sum([1 if tag == 'context' else 0 for tag in e['labels']]) for e in test])} / {len(test)}\\n\")\n",
    "        f_log.write('\\n\\n')"
   ]
  }
 ],
 "metadata": {
  "kernelspec": {
   "display_name": "Python 3",
   "language": "python",
   "name": "python3"
  },
  "language_info": {
   "name": "python",
   "version": "3.10.11"
  }
 },
 "nbformat": 4,
 "nbformat_minor": 2
}
