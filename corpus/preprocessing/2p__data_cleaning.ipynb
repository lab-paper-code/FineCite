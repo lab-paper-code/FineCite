{
 "cells": [
  {
   "cell_type": "code",
   "execution_count": 10,
   "metadata": {},
   "outputs": [],
   "source": [
    "import os\n",
    "import json\n",
    "import re\n",
    "import nltk\n",
    "from uuid import uuid4 "
   ]
  },
  {
   "cell_type": "code",
   "execution_count": 11,
   "metadata": {},
   "outputs": [],
   "source": [
    "# set dir name\n",
    "\n",
    "#inport settings\n",
    "sample = False\n",
    "\n",
    "#set input and output dir\n",
    "if sample:\n",
    "    input_dir = 'sample/1_json'\n",
    "    output_dir = 'sample/2_clean_json'\n",
    "else:\n",
    "    input_dir = '../data/result/1_json'\n",
    "    output_dir = '../model_training/data'\n",
    "    \n",
    "#set ouput path if not exists\n",
    "if not os.path.exists(output_dir):\n",
    "    os.makedirs(output_dir)"
   ]
  },
  {
   "cell_type": "code",
   "execution_count": 12,
   "metadata": {},
   "outputs": [],
   "source": [
    "total_files_loaded = 0\n",
    "processed_files_count = 0\n",
    "total_sent_count = 0\n"
   ]
  },
  {
   "cell_type": "code",
   "execution_count": 13,
   "metadata": {},
   "outputs": [],
   "source": [
    "if not os.path.exists(output_dir):\n",
    "    os.makedirs(output_dir)"
   ]
  },
  {
   "cell_type": "code",
   "execution_count": 14,
   "metadata": {},
   "outputs": [],
   "source": [
    "#helper \n",
    "def clean_sent(sent):\n",
    "    sent = re.sub(r'\\[(G?REF):.*\\]', r'[\\g<1>]', sent)\n",
    "    sent = re.sub(r'[^a-zA-Z0-9\\s.,;!-_+*/%&?{([\\])}]','', sent)\n",
    "    return sent"
   ]
  },
  {
   "cell_type": "code",
   "execution_count": 16,
   "metadata": {},
   "outputs": [],
   "source": [
    "#total files in input dir\n",
    "total_files_loaded = len(os.listdir(input_dir))\n",
    "\n",
    "full_data_dict = {}\n",
    "\n",
    "#iterate over all files\n",
    "for i, filename in enumerate(os.listdir(input_dir)):\n",
    "    #open document if .json\n",
    "    if filename.endswith('.json'):  \n",
    "        input_file_path = os.path.join(input_dir, filename)\n",
    "        with open(input_file_path, 'r', encoding='utf-8') as file:\n",
    "            data = json.load(file)\n",
    "        \n",
    "        # skipp documents with faulty meta data or insufficient size\n",
    "        if data['title'] is None or \\\n",
    "            len(data['authors']) < 1 or \\\n",
    "            len(data['sections']) < 3:\n",
    "                continue\n",
    "        processed_files_count += 1\n",
    "        doc_id = 'ACL_'+'_'.join(filename.split('.')[:-2])\n",
    "        sent_dict = {}\n",
    "        for section in data['sections']:\n",
    "            if len(section) < 2: continue\n",
    "            sent_dict['-'.join([doc_id,str(len(sent_dict))])] = '**' + section['section_name'] + '**' if section['section_name'] else '****'\n",
    "            for par in section['paragraphs']:\n",
    "                sents = nltk.sent_tokenize(clean_sent(par))\n",
    "                if len(sents) < 3: continue\n",
    "                sent_dict['-'.join([doc_id,str(len(sent_dict))])] = '&&&&'\n",
    "                for sent in sents:\n",
    "                    sent_dict['-'.join([doc_id,str(len(sent_dict))])] = sent\n",
    "                    total_sent_count += 1\n",
    "        full_data_dict[doc_id] = sent_dict"
   ]
  },
  {
   "cell_type": "code",
   "execution_count": 17,
   "metadata": {},
   "outputs": [],
   "source": [
    "# save file\n",
    "output_file_path = os.path.join(output_dir, '/raid/deallab/CCE_Data/2p_full_data.json')     \n",
    "with open(output_file_path, 'w', encoding='utf-8') as outfile:\n",
    "    json.dump(full_data_dict, outfile, indent=4, ensure_ascii=False)\n"
   ]
  },
  {
   "cell_type": "code",
   "execution_count": 18,
   "metadata": {},
   "outputs": [
    {
     "name": "stdout",
     "output_type": "stream",
     "text": [
      "Total loaded files: 71641\n",
      "Total processed files: 69953\n",
      "Total Sentence count: 7555500\n"
     ]
    }
   ],
   "source": [
    "print(f\"Total loaded files: {total_files_loaded}\")\n",
    "print(f\"Total processed files: {processed_files_count}\")\n",
    "print(f\"Total Sentence count: {total_sent_count}\")"
   ]
  }
 ],
 "metadata": {
  "kernelspec": {
   "display_name": "venv",
   "language": "python",
   "name": "python3"
  },
  "language_info": {
   "codemirror_mode": {
    "name": "ipython",
    "version": 3
   },
   "file_extension": ".py",
   "mimetype": "text/x-python",
   "name": "python",
   "nbconvert_exporter": "python",
   "pygments_lexer": "ipython3",
   "version": "3.11.9"
  }
 },
 "nbformat": 4,
 "nbformat_minor": 2
}
